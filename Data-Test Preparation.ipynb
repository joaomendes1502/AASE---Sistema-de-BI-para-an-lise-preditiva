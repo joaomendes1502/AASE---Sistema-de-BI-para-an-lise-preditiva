{
 "cells": [
  {
   "cell_type": "code",
   "execution_count": 1,
   "metadata": {},
   "outputs": [],
   "source": [
    "import pandas as pd"
   ]
  },
  {
   "cell_type": "code",
   "execution_count": 2,
   "metadata": {},
   "outputs": [
    {
     "data": {
      "text/html": [
       "<div>\n",
       "<style scoped>\n",
       "    .dataframe tbody tr th:only-of-type {\n",
       "        vertical-align: middle;\n",
       "    }\n",
       "\n",
       "    .dataframe tbody tr th {\n",
       "        vertical-align: top;\n",
       "    }\n",
       "\n",
       "    .dataframe thead th {\n",
       "        text-align: right;\n",
       "    }\n",
       "</style>\n",
       "<table border=\"1\" class=\"dataframe\">\n",
       "  <thead>\n",
       "    <tr style=\"text-align: right;\">\n",
       "      <th></th>\n",
       "      <th>full_name</th>\n",
       "      <th>registered_year</th>\n",
       "      <th>engine_capacity</th>\n",
       "      <th>insurance</th>\n",
       "      <th>transmission_type</th>\n",
       "      <th>kms_driven</th>\n",
       "      <th>owner_type</th>\n",
       "      <th>fuel_type</th>\n",
       "      <th>max_power</th>\n",
       "      <th>seats</th>\n",
       "      <th>mileage</th>\n",
       "      <th>body_type</th>\n",
       "      <th>city</th>\n",
       "      <th>ID</th>\n",
       "    </tr>\n",
       "  </thead>\n",
       "  <tbody>\n",
       "    <tr>\n",
       "      <th>0</th>\n",
       "      <td>2017 Hyundai Grand i10 1.2 Kappa Sportz Option</td>\n",
       "      <td>Jun 2017</td>\n",
       "      <td>1197 cc</td>\n",
       "      <td>Comprehensive</td>\n",
       "      <td>Manual</td>\n",
       "      <td>53,658 Kms</td>\n",
       "      <td>First Owner</td>\n",
       "      <td>Petrol</td>\n",
       "      <td>81.86bhp</td>\n",
       "      <td>5.0</td>\n",
       "      <td>18.9 kmpl</td>\n",
       "      <td>Hatchback</td>\n",
       "      <td>Mumbai</td>\n",
       "      <td>0</td>\n",
       "    </tr>\n",
       "    <tr>\n",
       "      <th>1</th>\n",
       "      <td>2020 Maruti Swift AMT VXI</td>\n",
       "      <td>Feb 2021</td>\n",
       "      <td>1197 cc</td>\n",
       "      <td>Not Available</td>\n",
       "      <td>Automatic</td>\n",
       "      <td>33,055 Kms</td>\n",
       "      <td>Second Owner</td>\n",
       "      <td>Petrol</td>\n",
       "      <td>81.80bhp</td>\n",
       "      <td>5.0</td>\n",
       "      <td>21.21 kmpl</td>\n",
       "      <td>Hatchback</td>\n",
       "      <td>Jaipur</td>\n",
       "      <td>1</td>\n",
       "    </tr>\n",
       "    <tr>\n",
       "      <th>2</th>\n",
       "      <td>2010 Maruti Zen Estilo LX BSIII</td>\n",
       "      <td>Jul 2010</td>\n",
       "      <td>998 cc</td>\n",
       "      <td>Third Party</td>\n",
       "      <td>Manual</td>\n",
       "      <td>90,385 Kms</td>\n",
       "      <td>Third Owner</td>\n",
       "      <td>Petrol</td>\n",
       "      <td>67.1bhp</td>\n",
       "      <td>5.0</td>\n",
       "      <td>18.2 kmpl</td>\n",
       "      <td>Hatchback</td>\n",
       "      <td>Chandigarh</td>\n",
       "      <td>2</td>\n",
       "    </tr>\n",
       "    <tr>\n",
       "      <th>3</th>\n",
       "      <td>2010 Maruti Alto LXi</td>\n",
       "      <td>2010</td>\n",
       "      <td>796 cc</td>\n",
       "      <td>Third Party insurance</td>\n",
       "      <td>Manual</td>\n",
       "      <td>1,10,000 Kms</td>\n",
       "      <td>First Owner</td>\n",
       "      <td>Petrol</td>\n",
       "      <td>46.3bhp</td>\n",
       "      <td>5.0</td>\n",
       "      <td>19.7 kmpl</td>\n",
       "      <td>Hatchback</td>\n",
       "      <td>Delhi</td>\n",
       "      <td>3</td>\n",
       "    </tr>\n",
       "    <tr>\n",
       "      <th>4</th>\n",
       "      <td>2018 Hyundai i20 Active S Petrol</td>\n",
       "      <td>Oct 2018</td>\n",
       "      <td>1197 cc</td>\n",
       "      <td>Comprehensive</td>\n",
       "      <td>Manual</td>\n",
       "      <td>58,000 Kms</td>\n",
       "      <td>Second Owner</td>\n",
       "      <td>Petrol</td>\n",
       "      <td>81.86bhp</td>\n",
       "      <td>5.0</td>\n",
       "      <td>17.19 kmpl</td>\n",
       "      <td>Hatchback</td>\n",
       "      <td>Delhi</td>\n",
       "      <td>4</td>\n",
       "    </tr>\n",
       "  </tbody>\n",
       "</table>\n",
       "</div>"
      ],
      "text/plain": [
       "                                        full_name registered_year  \\\n",
       "0  2017 Hyundai Grand i10 1.2 Kappa Sportz Option        Jun 2017   \n",
       "1                       2020 Maruti Swift AMT VXI        Feb 2021   \n",
       "2                 2010 Maruti Zen Estilo LX BSIII        Jul 2010   \n",
       "3                            2010 Maruti Alto LXi            2010   \n",
       "4                2018 Hyundai i20 Active S Petrol        Oct 2018   \n",
       "\n",
       "  engine_capacity              insurance transmission_type    kms_driven  \\\n",
       "0         1197 cc          Comprehensive            Manual    53,658 Kms   \n",
       "1         1197 cc          Not Available         Automatic    33,055 Kms   \n",
       "2          998 cc            Third Party            Manual    90,385 Kms   \n",
       "3          796 cc  Third Party insurance            Manual  1,10,000 Kms   \n",
       "4         1197 cc          Comprehensive            Manual    58,000 Kms   \n",
       "\n",
       "     owner_type fuel_type max_power  seats     mileage  body_type        city  \\\n",
       "0   First Owner    Petrol  81.86bhp    5.0   18.9 kmpl  Hatchback      Mumbai   \n",
       "1  Second Owner    Petrol  81.80bhp    5.0  21.21 kmpl  Hatchback      Jaipur   \n",
       "2   Third Owner    Petrol   67.1bhp    5.0   18.2 kmpl  Hatchback  Chandigarh   \n",
       "3   First Owner    Petrol   46.3bhp    5.0   19.7 kmpl  Hatchback       Delhi   \n",
       "4  Second Owner    Petrol  81.86bhp    5.0  17.19 kmpl  Hatchback       Delhi   \n",
       "\n",
       "   ID  \n",
       "0   0  \n",
       "1   1  \n",
       "2   2  \n",
       "3   3  \n",
       "4   4  "
      ]
     },
     "execution_count": 2,
     "metadata": {},
     "output_type": "execute_result"
    }
   ],
   "source": [
    "test_data = pd.read_csv('./test.csv')\n",
    "test_data.head()"
   ]
  },
  {
   "cell_type": "code",
   "execution_count": 3,
   "metadata": {},
   "outputs": [
    {
     "name": "stdout",
     "output_type": "stream",
     "text": [
      "<class 'pandas.core.frame.DataFrame'>\n",
      "RangeIndex: 3490 entries, 0 to 3489\n",
      "Data columns (total 14 columns):\n",
      " #   Column             Non-Null Count  Dtype  \n",
      "---  ------             --------------  -----  \n",
      " 0   full_name          3490 non-null   object \n",
      " 1   registered_year    3475 non-null   object \n",
      " 2   engine_capacity    3485 non-null   object \n",
      " 3   insurance          3488 non-null   object \n",
      " 4   transmission_type  3490 non-null   object \n",
      " 5   kms_driven         3490 non-null   object \n",
      " 6   owner_type         3481 non-null   object \n",
      " 7   fuel_type          3490 non-null   object \n",
      " 8   max_power          3477 non-null   object \n",
      " 9   seats              3487 non-null   float64\n",
      " 10  mileage            3389 non-null   object \n",
      " 11  body_type          3490 non-null   object \n",
      " 12  city               3490 non-null   object \n",
      " 13  ID                 3490 non-null   int64  \n",
      "dtypes: float64(1), int64(1), object(12)\n",
      "memory usage: 381.8+ KB\n"
     ]
    }
   ],
   "source": [
    "test_data.info()"
   ]
  },
  {
   "cell_type": "code",
   "execution_count": 4,
   "metadata": {},
   "outputs": [
    {
     "data": {
      "text/plain": [
       "0"
      ]
     },
     "execution_count": 4,
     "metadata": {},
     "output_type": "execute_result"
    }
   ],
   "source": [
    "test_data.duplicated().sum()"
   ]
  },
  {
   "cell_type": "code",
   "execution_count": 5,
   "metadata": {},
   "outputs": [
    {
     "data": {
      "text/plain": [
       "full_name              0\n",
       "registered_year       15\n",
       "engine_capacity        5\n",
       "insurance              2\n",
       "transmission_type      0\n",
       "kms_driven             0\n",
       "owner_type             9\n",
       "fuel_type              0\n",
       "max_power             13\n",
       "seats                  3\n",
       "mileage              101\n",
       "body_type              0\n",
       "city                   0\n",
       "ID                     0\n",
       "dtype: int64"
      ]
     },
     "execution_count": 5,
     "metadata": {},
     "output_type": "execute_result"
    }
   ],
   "source": [
    "test_data.isna().sum()"
   ]
  },
  {
   "cell_type": "code",
   "execution_count": 6,
   "metadata": {},
   "outputs": [
    {
     "data": {
      "text/plain": [
       "0       Jun 2017\n",
       "1       Feb 2021\n",
       "2       Jul 2010\n",
       "3           2010\n",
       "4       Oct 2018\n",
       "          ...   \n",
       "3485        2022\n",
       "3486    Apr 2017\n",
       "3487    Dec 2017\n",
       "3488    Jun 2016\n",
       "3489    Mar 2017\n",
       "Name: registered_year, Length: 3490, dtype: object"
      ]
     },
     "execution_count": 6,
     "metadata": {},
     "output_type": "execute_result"
    }
   ],
   "source": [
    "#Transform registered_year\n",
    "test_data['registered_year']"
   ]
  },
  {
   "cell_type": "code",
   "execution_count": 7,
   "metadata": {},
   "outputs": [
    {
     "data": {
      "text/plain": [
       "0       2017\n",
       "1       2021\n",
       "2       2010\n",
       "3       2010\n",
       "4       2018\n",
       "        ... \n",
       "3485    2022\n",
       "3486    2017\n",
       "3487    2017\n",
       "3488    2016\n",
       "3489    2017\n",
       "Name: registered_year, Length: 3490, dtype: object"
      ]
     },
     "execution_count": 7,
     "metadata": {},
     "output_type": "execute_result"
    }
   ],
   "source": [
    "# Extract the year using a regular expression\n",
    "test_data['registered_year'] = test_data['registered_year'].str.extract(r'(\\d{4})')\n",
    "\n",
    "# Display the updated DataFrame\n",
    "test_data['registered_year']"
   ]
  },
  {
   "cell_type": "code",
   "execution_count": 8,
   "metadata": {},
   "outputs": [
    {
     "data": {
      "text/plain": [
       "0       1197 cc\n",
       "1       1197 cc\n",
       "2        998 cc\n",
       "3        796 cc\n",
       "4       1197 cc\n",
       "         ...   \n",
       "3485        NaN\n",
       "3486     999 cc\n",
       "3487    1497 cc\n",
       "3488    1199 cc\n",
       "3489    1197 cc\n",
       "Name: engine_capacity, Length: 3490, dtype: object"
      ]
     },
     "execution_count": 8,
     "metadata": {},
     "output_type": "execute_result"
    }
   ],
   "source": [
    "#Transform engine_capacity\n",
    "test_data['engine_capacity']"
   ]
  },
  {
   "cell_type": "code",
   "execution_count": 9,
   "metadata": {},
   "outputs": [
    {
     "data": {
      "text/plain": [
       "0       1197\n",
       "1       1197\n",
       "2        998\n",
       "3        796\n",
       "4       1197\n",
       "        ... \n",
       "3485     NaN\n",
       "3486     999\n",
       "3487    1497\n",
       "3488    1199\n",
       "3489    1197\n",
       "Name: engine_capacity, Length: 3490, dtype: object"
      ]
     },
     "execution_count": 9,
     "metadata": {},
     "output_type": "execute_result"
    }
   ],
   "source": [
    "# Extract the numeric part using a regular expression\n",
    "test_data['engine_capacity'] = test_data['engine_capacity'].str.rstrip(' cc')\n",
    "\n",
    "# Display the updated DataFrame\n",
    "test_data['engine_capacity']"
   ]
  },
  {
   "cell_type": "code",
   "execution_count": 10,
   "metadata": {},
   "outputs": [
    {
     "data": {
      "text/plain": [
       "0               Comprehensive\n",
       "1               Not Available\n",
       "2                 Third Party\n",
       "3       Third Party insurance\n",
       "4               Comprehensive\n",
       "                ...          \n",
       "3485    Third Party insurance\n",
       "3486    Third Party insurance\n",
       "3487            Comprehensive\n",
       "3488            Comprehensive\n",
       "3489            Comprehensive\n",
       "Name: insurance, Length: 3490, dtype: object"
      ]
     },
     "execution_count": 10,
     "metadata": {},
     "output_type": "execute_result"
    }
   ],
   "source": [
    "#Transform insurance\n",
    "test_data['insurance']"
   ]
  },
  {
   "cell_type": "code",
   "execution_count": 11,
   "metadata": {},
   "outputs": [
    {
     "data": {
      "text/plain": [
       "array(['Comprehensive', 'Not Available', 'Third Party',\n",
       "       'Third Party insurance', 'Zero Dep', nan], dtype=object)"
      ]
     },
     "execution_count": 11,
     "metadata": {},
     "output_type": "execute_result"
    }
   ],
   "source": [
    "#Check values\n",
    "test_data['insurance'].unique()"
   ]
  },
  {
   "cell_type": "code",
   "execution_count": 12,
   "metadata": {},
   "outputs": [
    {
     "data": {
      "text/plain": [
       "0          Manual\n",
       "1       Automatic\n",
       "2          Manual\n",
       "3          Manual\n",
       "4          Manual\n",
       "          ...    \n",
       "3485    Automatic\n",
       "3486       Manual\n",
       "3487       Manual\n",
       "3488       Manual\n",
       "3489       Manual\n",
       "Name: transmission_type, Length: 3490, dtype: object"
      ]
     },
     "execution_count": 12,
     "metadata": {},
     "output_type": "execute_result"
    }
   ],
   "source": [
    "#Transmission_type - No problems to solve\n",
    "test_data['transmission_type']"
   ]
  },
  {
   "cell_type": "code",
   "execution_count": 13,
   "metadata": {},
   "outputs": [
    {
     "data": {
      "text/plain": [
       "array(['Manual', 'Automatic'], dtype=object)"
      ]
     },
     "execution_count": 13,
     "metadata": {},
     "output_type": "execute_result"
    }
   ],
   "source": [
    "test_data['transmission_type'].unique()"
   ]
  },
  {
   "cell_type": "code",
   "execution_count": 14,
   "metadata": {},
   "outputs": [
    {
     "data": {
      "text/plain": [
       "0         53,658 Kms\n",
       "1         33,055 Kms\n",
       "2         90,385 Kms\n",
       "3       1,10,000 Kms\n",
       "4         58,000 Kms\n",
       "            ...     \n",
       "3485      30,000 Kms\n",
       "3486      64,024 Kms\n",
       "3487      39,000 Kms\n",
       "3488      33,000 Kms\n",
       "3489      14,097 Kms\n",
       "Name: kms_driven, Length: 3490, dtype: object"
      ]
     },
     "execution_count": 14,
     "metadata": {},
     "output_type": "execute_result"
    }
   ],
   "source": [
    "#Kms_driven\n",
    "test_data['kms_driven']"
   ]
  },
  {
   "cell_type": "code",
   "execution_count": 15,
   "metadata": {},
   "outputs": [
    {
     "data": {
      "text/plain": [
       "array(['53,658 Kms', '33,055 Kms', '90,385 Kms', ..., '94,868 Kms',\n",
       "       '64,024 Kms', '14,097 Kms'], dtype=object)"
      ]
     },
     "execution_count": 15,
     "metadata": {},
     "output_type": "execute_result"
    }
   ],
   "source": [
    "test_data['kms_driven'].unique()"
   ]
  },
  {
   "cell_type": "code",
   "execution_count": 16,
   "metadata": {},
   "outputs": [
    {
     "data": {
      "text/plain": [
       "array(['53658', '33055', '90385', ..., '94868', '64024', '14097'],\n",
       "      dtype=object)"
      ]
     },
     "execution_count": 16,
     "metadata": {},
     "output_type": "execute_result"
    }
   ],
   "source": [
    "# Remove 'Kms' and commas, convert to numeric\n",
    "test_data['kms_driven'] = test_data['kms_driven'].str.replace(' Kms', '').str.replace(',', '')\n",
    "\n",
    "# Check the unique values again\n",
    "test_data['kms_driven'].unique()"
   ]
  },
  {
   "cell_type": "code",
   "execution_count": 17,
   "metadata": {},
   "outputs": [
    {
     "data": {
      "text/plain": [
       "0        First Owner\n",
       "1       Second Owner\n",
       "2        Third Owner\n",
       "3        First Owner\n",
       "4       Second Owner\n",
       "            ...     \n",
       "3485     First Owner\n",
       "3486     First Owner\n",
       "3487     First Owner\n",
       "3488     First Owner\n",
       "3489    Second Owner\n",
       "Name: owner_type, Length: 3490, dtype: object"
      ]
     },
     "execution_count": 17,
     "metadata": {},
     "output_type": "execute_result"
    }
   ],
   "source": [
    "#Owner_Type - No errors to solve\n",
    "test_data['owner_type']"
   ]
  },
  {
   "cell_type": "code",
   "execution_count": 18,
   "metadata": {},
   "outputs": [
    {
     "data": {
      "text/plain": [
       "array(['First Owner', 'Second Owner', 'Third Owner', nan, 'Fourth Owner',\n",
       "       'Fifth Owner'], dtype=object)"
      ]
     },
     "execution_count": 18,
     "metadata": {},
     "output_type": "execute_result"
    }
   ],
   "source": [
    "test_data['owner_type'].unique()"
   ]
  },
  {
   "cell_type": "code",
   "execution_count": 19,
   "metadata": {},
   "outputs": [
    {
     "data": {
      "text/plain": [
       "0         Petrol\n",
       "1         Petrol\n",
       "2         Petrol\n",
       "3         Petrol\n",
       "4         Petrol\n",
       "          ...   \n",
       "3485    Electric\n",
       "3486      Petrol\n",
       "3487      Petrol\n",
       "3488      Petrol\n",
       "3489      Petrol\n",
       "Name: fuel_type, Length: 3490, dtype: object"
      ]
     },
     "execution_count": 19,
     "metadata": {},
     "output_type": "execute_result"
    }
   ],
   "source": [
    "#Fuel_type - No errors to solve\n",
    "test_data['fuel_type']"
   ]
  },
  {
   "cell_type": "code",
   "execution_count": 20,
   "metadata": {},
   "outputs": [
    {
     "data": {
      "text/plain": [
       "array(['Petrol', 'Diesel', 'CNG', 'Electric', 'LPG'], dtype=object)"
      ]
     },
     "execution_count": 20,
     "metadata": {},
     "output_type": "execute_result"
    }
   ],
   "source": [
    "test_data['fuel_type'].unique()"
   ]
  },
  {
   "cell_type": "code",
   "execution_count": 21,
   "metadata": {},
   "outputs": [
    {
     "data": {
      "text/plain": [
       "0       81.86bhp\n",
       "1       81.80bhp\n",
       "2        67.1bhp\n",
       "3        46.3bhp\n",
       "4       81.86bhp\n",
       "          ...   \n",
       "3485    73.75bhp\n",
       "3486       67bhp\n",
       "3487    117.3bhp\n",
       "3488     88.7bhp\n",
       "3489    88.50bhp\n",
       "Name: max_power, Length: 3490, dtype: object"
      ]
     },
     "execution_count": 21,
     "metadata": {},
     "output_type": "execute_result"
    }
   ],
   "source": [
    "#Max_Power\n",
    "test_data['max_power']"
   ]
  },
  {
   "cell_type": "code",
   "execution_count": 22,
   "metadata": {},
   "outputs": [
    {
     "data": {
      "text/plain": [
       "array(['81.86bhp', '81.80bhp', '67.1bhp', '46.3bhp', '174.5bhp',\n",
       "       '58.33bhp', '138.1bhp', '84bhp', '88.7bhp', '117.6bhp', '68.05bhp',\n",
       "       '85.80bhp', '175.56bhp', '121.3bhp', '140bhp', '82bhp', '35 bhp',\n",
       "       '103.6bhp', '117.3bhp', '103bhp', '108.5bhp', '103.2bhp', '194bhp',\n",
       "       '62.1bhp', '140.8bhp', '88.50bhp', '55.2bhp', '80 PS at 5200 rpm',\n",
       "       '67.04bhp', '187.74bhp', '83.1bhp', '113.98bhp', '85.8bhp',\n",
       "       '261.49bhp', '178.49bhp', '74bhp', '84.82bhp', '86.63bhp',\n",
       "       '86.7bhp', '58.16bhp', '108.62bhp', '103.5bhp', '147.9bhp',\n",
       "       '98.6bhp', '86.8bhp', '177bhp', '90 PS', '187.7bhp', '80.46bhp',\n",
       "       '58bhp', '184bhp', '171.5bhp', '100 bhp', '118PS at 6,600 rpm',\n",
       "       '103.26bhp', '160.77bhp', '103.25bhp', '245bhp', '170bhp',\n",
       "       '174.3bhp', '74.02bhp', '170PS', '241.4bhp', '83.8bhp',\n",
       "       '167.67bhp', '113.4bhp', '147.5bhp', '53.3bhp', '73.97bhp',\n",
       "       '174.33bhp', '88.8bhp', '138.08bhp', '47.33bhp', '81.83bhp',\n",
       "       '120.69bhp', '83.83bhp', '152.87bhp', '86.83bhp', '130.2bhp',\n",
       "       '91.1bhp', '88.76bhp', '113.43bhp', '172.35bhp', '103.52bhp',\n",
       "       '78.9bhp', '55.92bhp', '246.7bhp', '67.05bhp', '120bhp',\n",
       "       '65.71bhp', '71.02bhp', '258bhp', '241.3bhp', nan, '500bhp',\n",
       "       '75bhp', '248.08bhp', '170', '67bhp', '141bhp', '88.5bhp',\n",
       "       '119.35bhp', '153.81bhp', '113.42bhp', '65', '100.6bhp',\n",
       "       '53.64bhp', '98.96bhp', '83.14bhp', '73.94bhp', '80', '58.2bhp',\n",
       "       '118.35bhp', '143bhp', '82.85bhp', '126.2bhp', '99bhp', '62bhp',\n",
       "       '37bhp', '83.11bhp', '114bhp', '168.5bhp', '108.45bhp', '108.6bhp',\n",
       "       '77bhp', '121bhp', '68bhp', '108.49bhp', '170.63bhp', '147.51bhp',\n",
       "       '97.89bhp', '70bhp', '160.92bhp', '73.75bhp', '167.62bhp',\n",
       "       '113.18bhp', '177', '97.6bhp', '101.65bhp', '88.73bhp', '98.63bhp',\n",
       "       '100bhp', '89.84bhp', '181bhp', '215bhp', '88bhp', '73.9bhp',\n",
       "       '98.59bhp', '105.94bhp', '163.60bhp', '110bhp', '204bhp', '150bhp',\n",
       "       '112bhp', '149.92bhp', '37.5bhp', '197.2bhp', '148bhp', '177.6bhp',\n",
       "       '104.5bhp', '112bhp at 3800 rpm', '384.87bhp', '47.3bhp',\n",
       "       '121.4bhp', '67.72bhp', '120.96bhp', '73bhp', '178', '78',\n",
       "       '197.13bhp', '84.8bhp', '102', '189.08bhp', '118.36bhp',\n",
       "       '156.9bhp', '138.03bhp', '172.45bhp', '113.45bhp', '191.7bhp',\n",
       "       '245.4bhp', '72bhp', '91.19bhp', '136bhp', '197bhp', '174.33',\n",
       "       '103.39bhp', '254.79bhp', '100.57bhp', '168.7bhp', '136.78bhp',\n",
       "       '115.05bhp', '126.32bhp', '188bhp', '83.81bhp', '254.8bhp',\n",
       "       '75.09bhp', '100PS at 5,500rpm', '72.41bhp', '140', '187.40bhp',\n",
       "       '130bhp', '138.12bhp', '79.4bhp', '121.36bhp', '130.3bhp',\n",
       "       '71.01bhp', '53.26bhp', '90bhp', '194.3bhp', '70.67bhp',\n",
       "       '117.60bhp', '72.40bhp', '53.5', '82.9bhp', '163.7bhp', '115bhp',\n",
       "       '203bhp', '235bhp', '88 PS', '138.05bhp', '153.86bhp', '108.50bhp',\n",
       "       '162bhp', '127bhp', '66.1bhp', '85ps', '116.4bhp', '171 PS', '105',\n",
       "       '190bhp', '88.77bhp', '63', '154bhp', '160bhp', '210', '70', '94',\n",
       "       '76.8bhp', '99.6bhp', '90(66)', '158bhp', '78.8bhp', '104.55bhp',\n",
       "       '82.4bhp', '201.15bhp', '183bhp', '152 PS', '91.18bhp',\n",
       "       '63 HP at 3200 rpm', '271.2bhp', '182.46bhp', '108.48bhp',\n",
       "       '106 bhp', '70 bhp at 5400 rpm', '194.4bhp', '158.2bhp', '218bhp',\n",
       "       '71bhp', '70.40Bhp', '252bhp', '40.36bhp', '89.75bhp', '116.3bhp',\n",
       "       '70 bhp at 4000 rpm', '69bhp', '86.80bhp', '155bhp', '203.2bhp',\n",
       "       '114.41bhp', '90PS at 4000rpm', '241.38bhp', '93.7bhp', '75PS',\n",
       "       '38.4bhp', '93.87bhp', '156.82bhp', '181.04bhp', '246.74bhp',\n",
       "       '180', '257.47bhp', '301.73bhp', '105PS', '231.1', '178bhp',\n",
       "       '57.6bhp', '60 PS', '104.68', '281.61bhp', '120.3bhp', '187.4bhp',\n",
       "       '150 ps 3850 rpm', '126.3bhp', '67.06bhp', '103.3bhp', '118.41bhp',\n",
       "       '87.2bhp', '84.48bhp', '110', '37.48bhp', '68', '118bhp',\n",
       "       '164.7bhp', '73.8bhp', '101', '94.93bhp', '64.1bhp', '148.31bhp',\n",
       "       '66.7', '175.67bhp', '89bhp', '98.56bhp', '55 Bhp', '85.7bhp',\n",
       "       '105bhp', '103.2', '147.8bhp', '121.31bhp', '108.495bhp',\n",
       "       '167.68bhp', '80.9bhp', '97.9bhp', '118.3bhp', '270.9bhp',\n",
       "       '147.94bhp', '138bhp', '112.4bhp', '237.36bhp', '105.5bhp',\n",
       "       '379.7bhp', '118.68bhp', '258', '110.4bhp', '35 Bhp', '150.19bhp',\n",
       "       '197.26bhp', '163.2', '157.8bhp', '157.81bhp', '168bhp', '75 PS',\n",
       "       '198.25bhp', '59.18bhp', '76bhp', '313bhp', '75.10bhp', '333bhp',\n",
       "       '63.1bhp', '61.68bhp', '182.38bhp', '97.7bhp', '402.30Bhpbhp',\n",
       "       '138.02bhp', '165 [224] at 3800', '139.46bhp', '215.01bhp', '64',\n",
       "       '130.07bhp', '48.21bhp', '248bhp', '75 PS at 4000 rpm', '98.82bhp',\n",
       "       '66.6', '240bhp', '65 PS at 5500 rpm', '63bhp', '71 PS',\n",
       "       '362.07bhp5500-6100bhp', '40bhp', '160 BHP', '123.24bhp',\n",
       "       '40.3bhp', '177.46bhp', '25.4bhp', '335.25bhp', '134bhp',\n",
       "       '147.4bhp', '167.6bhp', '163bhp', '167.63bhp', '86.76bhp', '75',\n",
       "       '367bhp', '325.86bhp3600-4200rpm', '221.3bhp', '167.7bhp',\n",
       "       '189.3bhp', '186bhp', '134hp', '214.5bhp', '94.68bhp', '92.7bhp',\n",
       "       '212.55bhp', '82.9', '375.5bhp', '84.88bhp', '335bhp',\n",
       "       '103.2 PS at 5500 RPM', '138.13bhp'], dtype=object)"
      ]
     },
     "execution_count": 22,
     "metadata": {},
     "output_type": "execute_result"
    }
   ],
   "source": [
    "test_data['max_power'].unique()"
   ]
  },
  {
   "cell_type": "code",
   "execution_count": 23,
   "metadata": {},
   "outputs": [],
   "source": [
    "import re\n",
    "def transform_max_power(x):\n",
    "    try:\n",
    "        if 'bhp' in x:\n",
    "            return str(10*round(1/10*float(x.rstrip('bhp'))))\n",
    "        elif 'PS' in x:\n",
    "            match = re.search(r'\\d+', x)  # Match one or more digits\n",
    "            if match:\n",
    "                return str(10*round(1/10*float(match.group())))  # Extract and convert to an integer\n",
    "            else:\n",
    "                return 'None'  # Return None if no match is found\n",
    "    except:\n",
    "        return 'None'\n",
    "test_data['max_power'] = test_data['max_power'].apply(transform_max_power)"
   ]
  },
  {
   "cell_type": "code",
   "execution_count": 24,
   "metadata": {},
   "outputs": [
    {
     "data": {
      "text/plain": [
       "0        80\n",
       "1        80\n",
       "2        70\n",
       "3        50\n",
       "4        80\n",
       "       ... \n",
       "3485     70\n",
       "3486     70\n",
       "3487    120\n",
       "3488     90\n",
       "3489     90\n",
       "Name: max_power, Length: 3490, dtype: object"
      ]
     },
     "execution_count": 24,
     "metadata": {},
     "output_type": "execute_result"
    }
   ],
   "source": [
    "test_data['max_power']"
   ]
  },
  {
   "cell_type": "code",
   "execution_count": 25,
   "metadata": {},
   "outputs": [
    {
     "data": {
      "text/plain": [
       "0       5.0\n",
       "1       5.0\n",
       "2       5.0\n",
       "3       5.0\n",
       "4       5.0\n",
       "       ... \n",
       "3485    5.0\n",
       "3486    5.0\n",
       "3487    5.0\n",
       "3488    5.0\n",
       "3489    5.0\n",
       "Name: seats, Length: 3490, dtype: float64"
      ]
     },
     "execution_count": 25,
     "metadata": {},
     "output_type": "execute_result"
    }
   ],
   "source": [
    "#seats - No problems to solve\n",
    "test_data['seats']"
   ]
  },
  {
   "cell_type": "code",
   "execution_count": 26,
   "metadata": {},
   "outputs": [
    {
     "data": {
      "text/plain": [
       "array([ 5.,  7.,  6., nan,  8.,  4.,  9., 14.,  2.])"
      ]
     },
     "execution_count": 26,
     "metadata": {},
     "output_type": "execute_result"
    }
   ],
   "source": [
    "test_data['seats'].unique()"
   ]
  },
  {
   "cell_type": "code",
   "execution_count": 27,
   "metadata": {},
   "outputs": [
    {
     "data": {
      "text/plain": [
       "0        18.9 kmpl\n",
       "1       21.21 kmpl\n",
       "2        18.2 kmpl\n",
       "3        19.7 kmpl\n",
       "4       17.19 kmpl\n",
       "           ...    \n",
       "3485           NaN\n",
       "3486    23.01 kmpl\n",
       "3487     17.8 kmpl\n",
       "3488     18.7 kmpl\n",
       "3489    22.38 kmpl\n",
       "Name: mileage, Length: 3490, dtype: object"
      ]
     },
     "execution_count": 27,
     "metadata": {},
     "output_type": "execute_result"
    }
   ],
   "source": [
    "#mileage\n",
    "test_data['mileage']"
   ]
  },
  {
   "cell_type": "code",
   "execution_count": 28,
   "metadata": {},
   "outputs": [
    {
     "data": {
      "text/plain": [
       "array(['18.9 kmpl', '21.21 kmpl', '18.2 kmpl', '19.7 kmpl', '17.19 kmpl',\n",
       "       '14.24 kmpl', '32.52 kmpl', '11.57 kmpl', '23.84 kmpl',\n",
       "       '17.5 kmpl', '17.4 kmpl', '20.3 kmpl', '22.1 kmpl', '18.5 kmpl',\n",
       "       '13.5 kmpl', '15.29 kmpl', '16 kmpl', '14 kmpl', '20.54 kmpl',\n",
       "       '18.69 kmpl', '15.04 kmpl', '17.01 kmpl', '21.5 kmpl', '20.7 kmpl',\n",
       "       '16.09 kmpl', '17 kmpl', '12.6 kmpl', '17.92 kmpl', nan,\n",
       "       '22.41 kmpl', '21.1 kmpl', '19.81 kmpl', '23.1 kmpl', '18.25 kmpl',\n",
       "       '21.4 kmpl', '18.1 kmpl', '19.1 kmpl', '21.01 kmpl', '16.77 kmpl',\n",
       "       '12.05 kmpl', '25.2 kmpl', '18 kmpl', '19.01 kmpl', '20.09 kmpl',\n",
       "       '17.8 kmpl', '26.6 kmpl', '20.51 kmpl', '16.5 kmpl', '15 kmpl',\n",
       "       '25.8 kmpl', '23.7 kmpl', '19.47 kmpl', '19.33 kmpl', '18.8 kmpl',\n",
       "       '16.36 kmpl', '19.3 kmpl', '30.48 km/kg', '33.54 kmpl',\n",
       "       '17.05 kmpl', '11.36 kmpl', '19 kmpl', '13 kmpl', '17.03 kmpl',\n",
       "       '14.1 kmpl', '20.65 kmpl', '11.5 kmpl', '17.1 kmpl', '14.16 kmpl',\n",
       "       '28.4 kmpl', '11.3 kmpl', '12.07 kmpl', '19.87 kmpl', '16.65 kmpl',\n",
       "       '16.3 kmpl', '25.17 kmpl', '25.4 kmpl', '15.73 kmpl', '16.7 kmpl',\n",
       "       '23.95 kmpl', '21 kmpl', '22.05 kmpl', '18.6 kmpl', '14.7 kmpl',\n",
       "       '15.1 kmpl', '13.9 kmpl', '20.73 kmpl', '18.55 kmpl', '20.77 kmpl',\n",
       "       '23.4 kmpl', '21.14 kmpl', '20.36 kmpl', '22.38 kmpl',\n",
       "       '35.6 km/kg', '11.8 kmpl', '23.59 kmpl', '10.5 kmpl', '18.3 kmpl',\n",
       "       '24.39 kmpl', '18.75 kmpl', '16.46 kmpl', '20.52 kmpl', '26 kmpl',\n",
       "       '18.7 kmpl', '14.11 kmpl', '14.74 kmpl', '18.4 kmpl', '8.5 kmpl',\n",
       "       '13.17 kmpl', '15.8 kmpl', '19.68 kmpl', '13.96 kmpl', '25.1 kmpl',\n",
       "       '18.15 kmpl', '18.12 kmpl', '15.2 kmpl', '12.99 kmpl', '14.8 kmpl',\n",
       "       '22.7 kmpl', '21.7 kmpl', '21.04 kmpl', '20.85 kmpl', '23.2 kmpl',\n",
       "       '23.65 kmpl', '15.4 kmpl', '24.3 kmpl', '19.2 kmpl', '18.19 kmpl',\n",
       "       '14.84 kmpl', '31.79 kmpl', '17.33 kmpl', '20.38 kmpl',\n",
       "       '28.09 kmpl', '23.9 kmpl', '17.11 kmpl', '25.83 kmpl', '16.1 kmpl',\n",
       "       '19.28 kmpl', '16.8 kmpl', '24.52 kmpl', '20.4 kmpl', '12.55 kmpl',\n",
       "       '20.04 kmpl', '20.1 kmpl', '25.32 kmpl', '17.3 kmpl', '14.75 kmpl',\n",
       "       '26.59 kmpl', '22.07 kmpl', '18.41 kmpl', '13.68 kmpl',\n",
       "       '20.45 kmpl', '24 kmpl', '12.4 kmpl', '16.2 kmpl', '19.6 kmpl',\n",
       "       '17.21 kmpl', '18.48 kmpl', '28 km/kg', '16.95 kmpl', '20.27 kmpl',\n",
       "       '22.54 kmpl', '20 kmpl', '18.49 kmpl', '15.17 kmpl', '22.61 kmpl',\n",
       "       '11.2 kmpl', '17.42 kmpl', '20.14 kmpl', '22.77 kmpl',\n",
       "       '20.92 kmpl', '8 kmpl', '17.99 kmpl', '20.28 kmpl', '17.6 kmpl',\n",
       "       '15.16 kmpl', '21.79 kmpl', '21.63 kmpl', '24.04 kmpl',\n",
       "       '23.01 kmpl', '23.8 kmpl', '14.62 kmpl', '19.12 kmpl',\n",
       "       '16.35 kmpl', '16.9 kmpl', '30.47 km/kg', '16.25 kmpl',\n",
       "       '11.7 kmpl', '25 kmpl', '14.99 kmpl', '27.39 kmpl', '11.9 kmpl',\n",
       "       '33 kmpl', '14.94 kmpl', '18.27 kmpl', '18.56 kmpl', '20.8 kmpl',\n",
       "       '22.74 kmpl', '15.37 kmpl', '17.7 kmpl', '19.4 kmpl', '24.35 kmpl',\n",
       "       '26.2 kmpl', '15.64 kmpl', '21.64 kmpl', '25.24 kmpl', '12.8 kmpl',\n",
       "       '15.5 kmpl', '14.82 kmpl', '24.4 kmpl', '19.27 kmpl', '14.2 kmpl',\n",
       "       '14.28 kmpl', '16.47 kmpl', '14.53 kmpl', '21.9 kmpl', '14.5 kmpl',\n",
       "       '26.08 km/kg', '17.9 kmpl', '33.85 km/kg', '13.2 kmpl',\n",
       "       '20.89 kmpl', '10.91 kmpl', '17.66 kmpl', '14.08 kmpl',\n",
       "       '16.4 kmpl', '22.9 kmpl', '16.39 kmpl', '15.97 kmpl', '15.3 kmpl',\n",
       "       '22 kmpl', '15.6 kmpl', '22.32 kmpl', '22.35 kmpl', '18.78 kmpl',\n",
       "       '20.68 kmpl', '27.3 kmpl', '14.6 kmpl', '19.5 kmpl', '19.67 kmpl',\n",
       "       '11.18 kmpl', '12 kmpl', '24.76 kmpl', '21.66 kmpl', '16.11 kmpl',\n",
       "       '14.3 kmpl', '12.9 kmpl', '18.47 kmpl', '23.22 kmpl', '17.69 kmpl',\n",
       "       '19.34 kmpl', '19.61 kmpl', '10 kmpl', '22.25 kmpl', '10.71 kmpl',\n",
       "       '13.01 kmpl', '21.76 kmpl', '26.78 km/kg', '24.7 kmpl',\n",
       "       '26.49 kmpl', '20.5 kmpl', '17.2 kmpl', '9 kmpl', '18.43 kmpl',\n",
       "       '19.49 kmpl', '14.81 kmpl', '14.21 kmpl', '19.56 kmpl',\n",
       "       '21.56 kmpl', '15.26 kmpl', '24.8 kmpl', '25.5 kmpl', '20.86 kmpl',\n",
       "       '16.55 kmpl', '22.69 kmpl', '17.57 kmpl', '23.64 kmpl',\n",
       "       '11.79 kmpl', '13.45 kmpl', '11.67 kmpl', '15.9 kmpl',\n",
       "       '12.62 kmpl', '21.72 kmpl', '18.16 kmpl', '14.23 kmpl',\n",
       "       '26.6 km/kg', '17.68 kmpl', '16.96 kmpl', '13.7 kmpl', '10.1 kmpl',\n",
       "       '23 kmpl', '17.52 kmpl', '13.6 kmpl', '18.44 kmpl', '16.38 kmpl',\n",
       "       '16.82 kmpl', '17.45 kmpl', '16.73 kmpl', '27.97 kmpl',\n",
       "       '15.41 kmpl', '26.55 kmpl', '24.29 kmpl', '16.42 kmpl',\n",
       "       '14.59 kmpl', '17.71 kmpl', '15.34 kmpl', '26.68 kmpl',\n",
       "       '31.59 km/kg', '25.01 kmpl', '16.6 kmpl', '21.19 kmpl',\n",
       "       '19.02 kmpl', '12.7 kmpl', '19.09 kmpl', '19.65 kmpl',\n",
       "       '21.02 kmpl', '18.88 kmpl', '20.37 kmpl', '12.63 kmpl',\n",
       "       '19.03 kmpl', '18.06 kmpl', '18.76 kmpl', '26.83 kmpl',\n",
       "       '19.44 kmpl', '16.02 kmpl', '26.82 kmpl', '16.56 kmpl',\n",
       "       '21.74 kmpl', '9.8 kmpl', '14.47 kmpl', '16.12 kmpl', '9.5 kmpl',\n",
       "       '25.44 kmpl', '14.69 kmpl', '22.95 kmpl', '26.49 km/kg',\n",
       "       '18.24 kmpl', '22.48 kmpl', '21.46 kmpl', '15.43 kmpl',\n",
       "       '21.43 kmpl', '15.7 kmpl', '19.08 kmpl', '18.67 kmpl', '12.1 kmpl',\n",
       "       '14.4 kmpl', '18.53 kmpl', '21.13 kmpl', '15.96 kmpl',\n",
       "       '12.81 kmpl', '20.15 kmpl', '17.29 kmpl', '19.8 kmpl',\n",
       "       '19.98 kmpl', '20.63 kmpl', '19.69 kmpl', '13.93 kmpl',\n",
       "       '16.93 kmpl', '22.56 kmpl', '17.41 kmpl', '22.8 kmpl', '25.6 kmpl',\n",
       "       '34.05 kmpl', '23.03 kmpl', '14.02 kmpl', '20.62 kmpl',\n",
       "       '17.43 kmpl', '16.78 kmpl', '16.14 kmpl', '10.6 kmpl',\n",
       "       '18.42 kmpl', '20.46 kmpl', '15.85 kmpl', '19.59 kmpl',\n",
       "       '15.01 kmpl', '19.17 kmpl', '13.4 kmpl', '18.97 kmpl',\n",
       "       '18.07 kmpl', '11.88 kmpl', '27.28 kmpl', '14.9 kmpl',\n",
       "       '13.44 kmpl', '27.4 kmpl', '16.13 kmpl', '8.9 kmpl', '9.52 kmpl',\n",
       "       '17.74 kmpl', '23.08 kmpl', '20.88 km/kg', '22.27 kmpl',\n",
       "       '27.03 kmpl', '15.63 kmpl', '16.07 kmpl', '30.46 kmpl',\n",
       "       '17.88 kmpl', '20.97 kmpl', '26.21 kmpl', '10.8 kmpl',\n",
       "       '21.12 kmpl', '22.3 kmpl', '21.3 kmpl', '21.27 kmpl', '24.2 kmpl',\n",
       "       '15.15 kmpl', '16.98 kmpl', '17.09 kmpl', '17.24 kmpl',\n",
       "       '22.5 kmpl', '13.73 kmpl', '140 kmpl', '13.14 kmpl', '33.44 kmpl',\n",
       "       '16.51 kmpl', '15.68 kmpl', '14.67 kmpl', '110 kmpl', '20.08 kmpl',\n",
       "       '9.17 kmpl', '20.71 kmpl', '18.86 kmpl', '13.87 kmpl',\n",
       "       '20.25 kmpl', '17.97 kmpl', '18.23 kmpl', '21.38 kmpl',\n",
       "       '24.97 kmpl', '13.38 kmpl', '16.24 kmpl', '18.33 kmpl',\n",
       "       '26.3 kmpl', '16.34 kmpl', '11.74 kmpl', '19.16 kmpl',\n",
       "       '14.49 kmpl', '16.28 kmpl', '12.04 kmpl', '17.32 kmpl',\n",
       "       '15.81 kmpl', '11 kmpl'], dtype=object)"
      ]
     },
     "execution_count": 28,
     "metadata": {},
     "output_type": "execute_result"
    }
   ],
   "source": [
    "test_data['mileage'].unique()"
   ]
  },
  {
   "cell_type": "code",
   "execution_count": 29,
   "metadata": {},
   "outputs": [],
   "source": [
    "def convert_mileage(x):\n",
    "    try:\n",
    "        if x.endswith('kmpl'):\n",
    "            return str(2*round(1/2*float(str(x).rstrip(' kmpl'))))\n",
    "        elif x.endswith('km/kg'):\n",
    "            return str(2*round(1/2*float(0.737*str(x).rstrip(' km/kg')))) # 0.737 for petrol\n",
    "    except:\n",
    "        return 'None'\n",
    "test_data['mileage'] = test_data['mileage'].apply(convert_mileage)"
   ]
  },
  {
   "cell_type": "code",
   "execution_count": 30,
   "metadata": {},
   "outputs": [
    {
     "data": {
      "text/plain": [
       "0         18\n",
       "1         22\n",
       "2         18\n",
       "3         20\n",
       "4         18\n",
       "        ... \n",
       "3485    None\n",
       "3486      24\n",
       "3487      18\n",
       "3488      18\n",
       "3489      22\n",
       "Name: mileage, Length: 3490, dtype: object"
      ]
     },
     "execution_count": 30,
     "metadata": {},
     "output_type": "execute_result"
    }
   ],
   "source": [
    "test_data['mileage']"
   ]
  },
  {
   "cell_type": "code",
   "execution_count": 31,
   "metadata": {},
   "outputs": [
    {
     "data": {
      "text/plain": [
       "0       Hatchback\n",
       "1       Hatchback\n",
       "2       Hatchback\n",
       "3       Hatchback\n",
       "4       Hatchback\n",
       "          ...    \n",
       "3485        Sedan\n",
       "3486    Hatchback\n",
       "3487        Sedan\n",
       "3488    Hatchback\n",
       "3489    Hatchback\n",
       "Name: body_type, Length: 3490, dtype: object"
      ]
     },
     "execution_count": 31,
     "metadata": {},
     "output_type": "execute_result"
    }
   ],
   "source": [
    "test_data['body_type']"
   ]
  },
  {
   "cell_type": "code",
   "execution_count": 32,
   "metadata": {},
   "outputs": [
    {
     "data": {
      "text/plain": [
       "array(['Hatchback', 'SUV', 'Tata', 'Sedan', 'MUV', 'Minivans', 'Mahindra',\n",
       "       'Coupe', 'Pickup', 'Cars', 'Maruti', 'Audi', 'Toyota', 'Honda',\n",
       "       'BMW', 'Datsun', 'Chevrolet', 'Jaguar', 'Porsche'], dtype=object)"
      ]
     },
     "execution_count": 32,
     "metadata": {},
     "output_type": "execute_result"
    }
   ],
   "source": [
    "test_data['body_type'].unique()"
   ]
  },
  {
   "cell_type": "code",
   "execution_count": 33,
   "metadata": {},
   "outputs": [],
   "source": [
    "# Define the mapping of values to categories\n",
    "#brand_mapping = {#'BMW': 'Brand', 'Maruti': 'Brand', 'Mercedes-Benz': 'Brand', 'Jaguar': 'Brand', 'Datsun': 'Brand',\n",
    "                 #'Tata': 'Brand', 'Honda': 'Brand', 'Mahindra': 'Brand', 'Volvo': 'Brand', 'Toyota': 'Brand',\n",
    "                 #'Isuzu': 'Brand', 'Chevrolet': 'Brand',\n",
    "                 #'Hatchback': 'Body Category', 'SUV': 'Body Category',\n",
    "                 #'Sedan': 'Body Category', 'MUV': 'Body Category', 'Minivans': 'Body Category', 'Coupe': 'Body Category',\n",
    "                 #'Wagon': 'Body Category', 'Pickup': 'Body Category', 'Convertibles': 'Body Category'}\n",
    "\n",
    "# Replace values in 'body_type' column using the mapping\n",
    "#df['body_type'] = df['body_type'].replace(brand_mapping)\n",
    "\n",
    "# Print the updated 'body_type' column\n",
    "#print(df['body_type'].unique())\n"
   ]
  },
  {
   "cell_type": "code",
   "execution_count": 34,
   "metadata": {},
   "outputs": [
    {
     "data": {
      "text/plain": [
       "0       Hatchback\n",
       "1       Hatchback\n",
       "2       Hatchback\n",
       "3       Hatchback\n",
       "4       Hatchback\n",
       "          ...    \n",
       "3485        Sedan\n",
       "3486    Hatchback\n",
       "3487        Sedan\n",
       "3488    Hatchback\n",
       "3489    Hatchback\n",
       "Name: body_type, Length: 3490, dtype: object"
      ]
     },
     "execution_count": 34,
     "metadata": {},
     "output_type": "execute_result"
    }
   ],
   "source": [
    "test_data['body_type']"
   ]
  },
  {
   "cell_type": "code",
   "execution_count": 35,
   "metadata": {},
   "outputs": [
    {
     "data": {
      "text/plain": [
       "0           Mumbai\n",
       "1           Jaipur\n",
       "2       Chandigarh\n",
       "3            Delhi\n",
       "4            Delhi\n",
       "           ...    \n",
       "3485          Pune\n",
       "3486     Bangalore\n",
       "3487         Delhi\n",
       "3488        Mumbai\n",
       "3489         Delhi\n",
       "Name: city, Length: 3490, dtype: object"
      ]
     },
     "execution_count": 35,
     "metadata": {},
     "output_type": "execute_result"
    }
   ],
   "source": [
    "#city - No problems to solve\n",
    "test_data['city']"
   ]
  },
  {
   "cell_type": "code",
   "execution_count": 36,
   "metadata": {},
   "outputs": [
    {
     "data": {
      "text/plain": [
       "array(['Mumbai', 'Jaipur', 'Chandigarh', 'Delhi', 'Bangalore',\n",
       "       'Ahmedabad', 'Chennai', 'Kolkata', 'Gurgaon', 'Pune', 'Lucknow',\n",
       "       'Hyderabad', 'Agra'], dtype=object)"
      ]
     },
     "execution_count": 36,
     "metadata": {},
     "output_type": "execute_result"
    }
   ],
   "source": [
    "test_data['city'].unique()"
   ]
  },
  {
   "cell_type": "code",
   "execution_count": 37,
   "metadata": {},
   "outputs": [
    {
     "data": {
      "text/html": [
       "<div>\n",
       "<style scoped>\n",
       "    .dataframe tbody tr th:only-of-type {\n",
       "        vertical-align: middle;\n",
       "    }\n",
       "\n",
       "    .dataframe tbody tr th {\n",
       "        vertical-align: top;\n",
       "    }\n",
       "\n",
       "    .dataframe thead th {\n",
       "        text-align: right;\n",
       "    }\n",
       "</style>\n",
       "<table border=\"1\" class=\"dataframe\">\n",
       "  <thead>\n",
       "    <tr style=\"text-align: right;\">\n",
       "      <th></th>\n",
       "      <th>full_name</th>\n",
       "      <th>registered_year</th>\n",
       "      <th>engine_capacity</th>\n",
       "      <th>insurance</th>\n",
       "      <th>transmission_type</th>\n",
       "      <th>kms_driven</th>\n",
       "      <th>owner_type</th>\n",
       "      <th>fuel_type</th>\n",
       "      <th>max_power</th>\n",
       "      <th>seats</th>\n",
       "      <th>mileage</th>\n",
       "      <th>body_type</th>\n",
       "      <th>city</th>\n",
       "      <th>ID</th>\n",
       "    </tr>\n",
       "  </thead>\n",
       "  <tbody>\n",
       "    <tr>\n",
       "      <th>0</th>\n",
       "      <td>2017 Hyundai Grand i10 1.2 Kappa Sportz Option</td>\n",
       "      <td>2017</td>\n",
       "      <td>1197</td>\n",
       "      <td>Comprehensive</td>\n",
       "      <td>Manual</td>\n",
       "      <td>53658</td>\n",
       "      <td>First Owner</td>\n",
       "      <td>Petrol</td>\n",
       "      <td>80</td>\n",
       "      <td>5.0</td>\n",
       "      <td>18</td>\n",
       "      <td>Hatchback</td>\n",
       "      <td>Mumbai</td>\n",
       "      <td>0</td>\n",
       "    </tr>\n",
       "    <tr>\n",
       "      <th>1</th>\n",
       "      <td>2020 Maruti Swift AMT VXI</td>\n",
       "      <td>2021</td>\n",
       "      <td>1197</td>\n",
       "      <td>Not Available</td>\n",
       "      <td>Automatic</td>\n",
       "      <td>33055</td>\n",
       "      <td>Second Owner</td>\n",
       "      <td>Petrol</td>\n",
       "      <td>80</td>\n",
       "      <td>5.0</td>\n",
       "      <td>22</td>\n",
       "      <td>Hatchback</td>\n",
       "      <td>Jaipur</td>\n",
       "      <td>1</td>\n",
       "    </tr>\n",
       "    <tr>\n",
       "      <th>2</th>\n",
       "      <td>2010 Maruti Zen Estilo LX BSIII</td>\n",
       "      <td>2010</td>\n",
       "      <td>998</td>\n",
       "      <td>Third Party</td>\n",
       "      <td>Manual</td>\n",
       "      <td>90385</td>\n",
       "      <td>Third Owner</td>\n",
       "      <td>Petrol</td>\n",
       "      <td>70</td>\n",
       "      <td>5.0</td>\n",
       "      <td>18</td>\n",
       "      <td>Hatchback</td>\n",
       "      <td>Chandigarh</td>\n",
       "      <td>2</td>\n",
       "    </tr>\n",
       "    <tr>\n",
       "      <th>3</th>\n",
       "      <td>2010 Maruti Alto LXi</td>\n",
       "      <td>2010</td>\n",
       "      <td>796</td>\n",
       "      <td>Third Party insurance</td>\n",
       "      <td>Manual</td>\n",
       "      <td>110000</td>\n",
       "      <td>First Owner</td>\n",
       "      <td>Petrol</td>\n",
       "      <td>50</td>\n",
       "      <td>5.0</td>\n",
       "      <td>20</td>\n",
       "      <td>Hatchback</td>\n",
       "      <td>Delhi</td>\n",
       "      <td>3</td>\n",
       "    </tr>\n",
       "    <tr>\n",
       "      <th>4</th>\n",
       "      <td>2018 Hyundai i20 Active S Petrol</td>\n",
       "      <td>2018</td>\n",
       "      <td>1197</td>\n",
       "      <td>Comprehensive</td>\n",
       "      <td>Manual</td>\n",
       "      <td>58000</td>\n",
       "      <td>Second Owner</td>\n",
       "      <td>Petrol</td>\n",
       "      <td>80</td>\n",
       "      <td>5.0</td>\n",
       "      <td>18</td>\n",
       "      <td>Hatchback</td>\n",
       "      <td>Delhi</td>\n",
       "      <td>4</td>\n",
       "    </tr>\n",
       "  </tbody>\n",
       "</table>\n",
       "</div>"
      ],
      "text/plain": [
       "                                        full_name registered_year  \\\n",
       "0  2017 Hyundai Grand i10 1.2 Kappa Sportz Option            2017   \n",
       "1                       2020 Maruti Swift AMT VXI            2021   \n",
       "2                 2010 Maruti Zen Estilo LX BSIII            2010   \n",
       "3                            2010 Maruti Alto LXi            2010   \n",
       "4                2018 Hyundai i20 Active S Petrol            2018   \n",
       "\n",
       "  engine_capacity              insurance transmission_type kms_driven  \\\n",
       "0            1197          Comprehensive            Manual      53658   \n",
       "1            1197          Not Available         Automatic      33055   \n",
       "2             998            Third Party            Manual      90385   \n",
       "3             796  Third Party insurance            Manual     110000   \n",
       "4            1197          Comprehensive            Manual      58000   \n",
       "\n",
       "     owner_type fuel_type max_power  seats mileage  body_type        city  ID  \n",
       "0   First Owner    Petrol        80    5.0      18  Hatchback      Mumbai   0  \n",
       "1  Second Owner    Petrol        80    5.0      22  Hatchback      Jaipur   1  \n",
       "2   Third Owner    Petrol        70    5.0      18  Hatchback  Chandigarh   2  \n",
       "3   First Owner    Petrol        50    5.0      20  Hatchback       Delhi   3  \n",
       "4  Second Owner    Petrol        80    5.0      18  Hatchback       Delhi   4  "
      ]
     },
     "execution_count": 37,
     "metadata": {},
     "output_type": "execute_result"
    }
   ],
   "source": [
    "test_data.head()"
   ]
  },
  {
   "cell_type": "code",
   "execution_count": 38,
   "metadata": {},
   "outputs": [
    {
     "data": {
      "text/plain": [
       "array(['Comprehensive', 'Not Available', 'Third Party',\n",
       "       'Third Party insurance', 'Zero Dep', nan], dtype=object)"
      ]
     },
     "execution_count": 38,
     "metadata": {},
     "output_type": "execute_result"
    }
   ],
   "source": [
    "test_data['insurance'].unique()"
   ]
  },
  {
   "cell_type": "code",
   "execution_count": 39,
   "metadata": {},
   "outputs": [],
   "source": [
    "test_data['insurance'].fillna(\"None\", inplace=True)"
   ]
  },
  {
   "cell_type": "code",
   "execution_count": 40,
   "metadata": {},
   "outputs": [],
   "source": [
    "#Insurance one-hot enconding\n",
    "test_data = test_data.join(pd.get_dummies(test_data.insurance,dtype=int)).drop(['insurance'], axis=1)"
   ]
  },
  {
   "cell_type": "code",
   "execution_count": 41,
   "metadata": {},
   "outputs": [
    {
     "data": {
      "text/plain": [
       "array(['Manual', 'Automatic'], dtype=object)"
      ]
     },
     "execution_count": 41,
     "metadata": {},
     "output_type": "execute_result"
    }
   ],
   "source": [
    "test_data['transmission_type'].unique()"
   ]
  },
  {
   "cell_type": "code",
   "execution_count": 42,
   "metadata": {},
   "outputs": [],
   "source": [
    "#transmission_type one-hot encoding\n",
    "test_data = test_data.join(pd.get_dummies(test_data.transmission_type,dtype=int)).drop(['transmission_type'],axis=1)"
   ]
  },
  {
   "cell_type": "code",
   "execution_count": 43,
   "metadata": {},
   "outputs": [
    {
     "data": {
      "text/plain": [
       "array(['First Owner', 'Second Owner', 'Third Owner', nan, 'Fourth Owner',\n",
       "       'Fifth Owner'], dtype=object)"
      ]
     },
     "execution_count": 43,
     "metadata": {},
     "output_type": "execute_result"
    }
   ],
   "source": [
    "test_data['owner_type'].unique()"
   ]
  },
  {
   "cell_type": "code",
   "execution_count": 44,
   "metadata": {},
   "outputs": [],
   "source": [
    "test_data['owner_type'].fillna(\"Unknown\", inplace=True)"
   ]
  },
  {
   "cell_type": "code",
   "execution_count": 45,
   "metadata": {},
   "outputs": [],
   "source": [
    "#owner_type One-hot-encoding\n",
    "test_data = test_data.join(pd.get_dummies(test_data.owner_type,dtype=int)).drop(['owner_type'],axis=1)"
   ]
  },
  {
   "cell_type": "code",
   "execution_count": 46,
   "metadata": {},
   "outputs": [
    {
     "data": {
      "text/plain": [
       "array(['Petrol', 'Diesel', 'CNG', 'Electric', 'LPG'], dtype=object)"
      ]
     },
     "execution_count": 46,
     "metadata": {},
     "output_type": "execute_result"
    }
   ],
   "source": [
    "test_data['fuel_type'].unique()"
   ]
  },
  {
   "cell_type": "code",
   "execution_count": 47,
   "metadata": {},
   "outputs": [],
   "source": [
    "#fuel_type One-hot encoding\n",
    "test_data = test_data.join(pd.get_dummies(test_data.fuel_type,dtype=int)).drop(['fuel_type'],axis=1)"
   ]
  },
  {
   "cell_type": "code",
   "execution_count": 48,
   "metadata": {},
   "outputs": [
    {
     "data": {
      "text/plain": [
       "array(['Hatchback', 'SUV', 'Tata', 'Sedan', 'MUV', 'Minivans', 'Mahindra',\n",
       "       'Coupe', 'Pickup', 'Cars', 'Maruti', 'Audi', 'Toyota', 'Honda',\n",
       "       'BMW', 'Datsun', 'Chevrolet', 'Jaguar', 'Porsche'], dtype=object)"
      ]
     },
     "execution_count": 48,
     "metadata": {},
     "output_type": "execute_result"
    }
   ],
   "source": [
    "test_data['body_type'].unique()"
   ]
  },
  {
   "cell_type": "code",
   "execution_count": 49,
   "metadata": {},
   "outputs": [],
   "source": [
    "#body_type One-hot encoding\n",
    "test_data = test_data.join(pd.get_dummies(test_data.body_type,dtype=int)).drop(['body_type'],axis=1)"
   ]
  },
  {
   "cell_type": "code",
   "execution_count": 50,
   "metadata": {},
   "outputs": [
    {
     "data": {
      "text/plain": [
       "array(['Mumbai', 'Jaipur', 'Chandigarh', 'Delhi', 'Bangalore',\n",
       "       'Ahmedabad', 'Chennai', 'Kolkata', 'Gurgaon', 'Pune', 'Lucknow',\n",
       "       'Hyderabad', 'Agra'], dtype=object)"
      ]
     },
     "execution_count": 50,
     "metadata": {},
     "output_type": "execute_result"
    }
   ],
   "source": [
    "test_data['city'].unique()"
   ]
  },
  {
   "cell_type": "code",
   "execution_count": 51,
   "metadata": {},
   "outputs": [],
   "source": [
    "#city One-hot encoding\n",
    "test_data = test_data.join(pd.get_dummies(test_data.city,dtype=int)).drop(['city'],axis=1)"
   ]
  },
  {
   "cell_type": "code",
   "execution_count": 52,
   "metadata": {},
   "outputs": [
    {
     "data": {
      "text/plain": [
       "array(['2017 Hyundai Grand i10 1.2 Kappa Sportz Option',\n",
       "       '2020 Maruti Swift AMT VXI', '2010 Maruti Zen Estilo LX BSIII',\n",
       "       ..., '2015 Maruti Wagon R LXI CNG', '2017 Renault KWID RXT AMT',\n",
       "       '2016 Honda Amaze SX i-VTEC'], dtype=object)"
      ]
     },
     "execution_count": 52,
     "metadata": {},
     "output_type": "execute_result"
    }
   ],
   "source": [
    "test_data['full_name'].unique()"
   ]
  },
  {
   "cell_type": "code",
   "execution_count": 53,
   "metadata": {},
   "outputs": [
    {
     "data": {
      "text/html": [
       "<div>\n",
       "<style scoped>\n",
       "    .dataframe tbody tr th:only-of-type {\n",
       "        vertical-align: middle;\n",
       "    }\n",
       "\n",
       "    .dataframe tbody tr th {\n",
       "        vertical-align: top;\n",
       "    }\n",
       "\n",
       "    .dataframe thead th {\n",
       "        text-align: right;\n",
       "    }\n",
       "</style>\n",
       "<table border=\"1\" class=\"dataframe\">\n",
       "  <thead>\n",
       "    <tr style=\"text-align: right;\">\n",
       "      <th></th>\n",
       "      <th>full_name</th>\n",
       "      <th>registered_year</th>\n",
       "      <th>engine_capacity</th>\n",
       "      <th>kms_driven</th>\n",
       "      <th>max_power</th>\n",
       "      <th>seats</th>\n",
       "      <th>mileage</th>\n",
       "      <th>ID</th>\n",
       "      <th>Comprehensive</th>\n",
       "      <th>None</th>\n",
       "      <th>...</th>\n",
       "      <th>Chandigarh</th>\n",
       "      <th>Chennai</th>\n",
       "      <th>Delhi</th>\n",
       "      <th>Gurgaon</th>\n",
       "      <th>Hyderabad</th>\n",
       "      <th>Jaipur</th>\n",
       "      <th>Kolkata</th>\n",
       "      <th>Lucknow</th>\n",
       "      <th>Mumbai</th>\n",
       "      <th>Pune</th>\n",
       "    </tr>\n",
       "  </thead>\n",
       "  <tbody>\n",
       "    <tr>\n",
       "      <th>0</th>\n",
       "      <td>2017 Hyundai Grand i10 1.2 Kappa Sportz Option</td>\n",
       "      <td>2017</td>\n",
       "      <td>1197</td>\n",
       "      <td>53658</td>\n",
       "      <td>80</td>\n",
       "      <td>5.0</td>\n",
       "      <td>18</td>\n",
       "      <td>0</td>\n",
       "      <td>1</td>\n",
       "      <td>0</td>\n",
       "      <td>...</td>\n",
       "      <td>0</td>\n",
       "      <td>0</td>\n",
       "      <td>0</td>\n",
       "      <td>0</td>\n",
       "      <td>0</td>\n",
       "      <td>0</td>\n",
       "      <td>0</td>\n",
       "      <td>0</td>\n",
       "      <td>1</td>\n",
       "      <td>0</td>\n",
       "    </tr>\n",
       "    <tr>\n",
       "      <th>1</th>\n",
       "      <td>2020 Maruti Swift AMT VXI</td>\n",
       "      <td>2021</td>\n",
       "      <td>1197</td>\n",
       "      <td>33055</td>\n",
       "      <td>80</td>\n",
       "      <td>5.0</td>\n",
       "      <td>22</td>\n",
       "      <td>1</td>\n",
       "      <td>0</td>\n",
       "      <td>0</td>\n",
       "      <td>...</td>\n",
       "      <td>0</td>\n",
       "      <td>0</td>\n",
       "      <td>0</td>\n",
       "      <td>0</td>\n",
       "      <td>0</td>\n",
       "      <td>1</td>\n",
       "      <td>0</td>\n",
       "      <td>0</td>\n",
       "      <td>0</td>\n",
       "      <td>0</td>\n",
       "    </tr>\n",
       "    <tr>\n",
       "      <th>2</th>\n",
       "      <td>2010 Maruti Zen Estilo LX BSIII</td>\n",
       "      <td>2010</td>\n",
       "      <td>998</td>\n",
       "      <td>90385</td>\n",
       "      <td>70</td>\n",
       "      <td>5.0</td>\n",
       "      <td>18</td>\n",
       "      <td>2</td>\n",
       "      <td>0</td>\n",
       "      <td>0</td>\n",
       "      <td>...</td>\n",
       "      <td>1</td>\n",
       "      <td>0</td>\n",
       "      <td>0</td>\n",
       "      <td>0</td>\n",
       "      <td>0</td>\n",
       "      <td>0</td>\n",
       "      <td>0</td>\n",
       "      <td>0</td>\n",
       "      <td>0</td>\n",
       "      <td>0</td>\n",
       "    </tr>\n",
       "    <tr>\n",
       "      <th>3</th>\n",
       "      <td>2010 Maruti Alto LXi</td>\n",
       "      <td>2010</td>\n",
       "      <td>796</td>\n",
       "      <td>110000</td>\n",
       "      <td>50</td>\n",
       "      <td>5.0</td>\n",
       "      <td>20</td>\n",
       "      <td>3</td>\n",
       "      <td>0</td>\n",
       "      <td>0</td>\n",
       "      <td>...</td>\n",
       "      <td>0</td>\n",
       "      <td>0</td>\n",
       "      <td>1</td>\n",
       "      <td>0</td>\n",
       "      <td>0</td>\n",
       "      <td>0</td>\n",
       "      <td>0</td>\n",
       "      <td>0</td>\n",
       "      <td>0</td>\n",
       "      <td>0</td>\n",
       "    </tr>\n",
       "    <tr>\n",
       "      <th>4</th>\n",
       "      <td>2018 Hyundai i20 Active S Petrol</td>\n",
       "      <td>2018</td>\n",
       "      <td>1197</td>\n",
       "      <td>58000</td>\n",
       "      <td>80</td>\n",
       "      <td>5.0</td>\n",
       "      <td>18</td>\n",
       "      <td>4</td>\n",
       "      <td>1</td>\n",
       "      <td>0</td>\n",
       "      <td>...</td>\n",
       "      <td>0</td>\n",
       "      <td>0</td>\n",
       "      <td>1</td>\n",
       "      <td>0</td>\n",
       "      <td>0</td>\n",
       "      <td>0</td>\n",
       "      <td>0</td>\n",
       "      <td>0</td>\n",
       "      <td>0</td>\n",
       "      <td>0</td>\n",
       "    </tr>\n",
       "  </tbody>\n",
       "</table>\n",
       "<p>5 rows × 59 columns</p>\n",
       "</div>"
      ],
      "text/plain": [
       "                                        full_name registered_year  \\\n",
       "0  2017 Hyundai Grand i10 1.2 Kappa Sportz Option            2017   \n",
       "1                       2020 Maruti Swift AMT VXI            2021   \n",
       "2                 2010 Maruti Zen Estilo LX BSIII            2010   \n",
       "3                            2010 Maruti Alto LXi            2010   \n",
       "4                2018 Hyundai i20 Active S Petrol            2018   \n",
       "\n",
       "  engine_capacity kms_driven max_power  seats mileage  ID  Comprehensive  \\\n",
       "0            1197      53658        80    5.0      18   0              1   \n",
       "1            1197      33055        80    5.0      22   1              0   \n",
       "2             998      90385        70    5.0      18   2              0   \n",
       "3             796     110000        50    5.0      20   3              0   \n",
       "4            1197      58000        80    5.0      18   4              1   \n",
       "\n",
       "   None  ...  Chandigarh  Chennai  Delhi  Gurgaon  Hyderabad  Jaipur  Kolkata  \\\n",
       "0     0  ...           0        0      0        0          0       0        0   \n",
       "1     0  ...           0        0      0        0          0       1        0   \n",
       "2     0  ...           1        0      0        0          0       0        0   \n",
       "3     0  ...           0        0      1        0          0       0        0   \n",
       "4     0  ...           0        0      1        0          0       0        0   \n",
       "\n",
       "   Lucknow  Mumbai  Pune  \n",
       "0        0       1     0  \n",
       "1        0       0     0  \n",
       "2        0       0     0  \n",
       "3        0       0     0  \n",
       "4        0       0     0  \n",
       "\n",
       "[5 rows x 59 columns]"
      ]
     },
     "execution_count": 53,
     "metadata": {},
     "output_type": "execute_result"
    }
   ],
   "source": [
    "#Create a new column 'ID' with sequential IDs starting from 1\n",
    "test_data['ID'] = range(0, len(test_data))\n",
    "\n",
    "#Print the updated DataFrame\n",
    "test_data.head()"
   ]
  },
  {
   "cell_type": "code",
   "execution_count": 54,
   "metadata": {},
   "outputs": [
    {
     "data": {
      "text/html": [
       "<div>\n",
       "<style scoped>\n",
       "    .dataframe tbody tr th:only-of-type {\n",
       "        vertical-align: middle;\n",
       "    }\n",
       "\n",
       "    .dataframe tbody tr th {\n",
       "        vertical-align: top;\n",
       "    }\n",
       "\n",
       "    .dataframe thead th {\n",
       "        text-align: right;\n",
       "    }\n",
       "</style>\n",
       "<table border=\"1\" class=\"dataframe\">\n",
       "  <thead>\n",
       "    <tr style=\"text-align: right;\">\n",
       "      <th></th>\n",
       "      <th>registered_year</th>\n",
       "      <th>engine_capacity</th>\n",
       "      <th>kms_driven</th>\n",
       "      <th>max_power</th>\n",
       "      <th>seats</th>\n",
       "      <th>mileage</th>\n",
       "      <th>ID</th>\n",
       "      <th>Comprehensive</th>\n",
       "      <th>None</th>\n",
       "      <th>Not Available</th>\n",
       "      <th>...</th>\n",
       "      <th>Chandigarh</th>\n",
       "      <th>Chennai</th>\n",
       "      <th>Delhi</th>\n",
       "      <th>Gurgaon</th>\n",
       "      <th>Hyderabad</th>\n",
       "      <th>Jaipur</th>\n",
       "      <th>Kolkata</th>\n",
       "      <th>Lucknow</th>\n",
       "      <th>Mumbai</th>\n",
       "      <th>Pune</th>\n",
       "    </tr>\n",
       "  </thead>\n",
       "  <tbody>\n",
       "    <tr>\n",
       "      <th>0</th>\n",
       "      <td>2017</td>\n",
       "      <td>1197</td>\n",
       "      <td>53658</td>\n",
       "      <td>80</td>\n",
       "      <td>5.0</td>\n",
       "      <td>18</td>\n",
       "      <td>0</td>\n",
       "      <td>1</td>\n",
       "      <td>0</td>\n",
       "      <td>0</td>\n",
       "      <td>...</td>\n",
       "      <td>0</td>\n",
       "      <td>0</td>\n",
       "      <td>0</td>\n",
       "      <td>0</td>\n",
       "      <td>0</td>\n",
       "      <td>0</td>\n",
       "      <td>0</td>\n",
       "      <td>0</td>\n",
       "      <td>1</td>\n",
       "      <td>0</td>\n",
       "    </tr>\n",
       "    <tr>\n",
       "      <th>1</th>\n",
       "      <td>2021</td>\n",
       "      <td>1197</td>\n",
       "      <td>33055</td>\n",
       "      <td>80</td>\n",
       "      <td>5.0</td>\n",
       "      <td>22</td>\n",
       "      <td>1</td>\n",
       "      <td>0</td>\n",
       "      <td>0</td>\n",
       "      <td>1</td>\n",
       "      <td>...</td>\n",
       "      <td>0</td>\n",
       "      <td>0</td>\n",
       "      <td>0</td>\n",
       "      <td>0</td>\n",
       "      <td>0</td>\n",
       "      <td>1</td>\n",
       "      <td>0</td>\n",
       "      <td>0</td>\n",
       "      <td>0</td>\n",
       "      <td>0</td>\n",
       "    </tr>\n",
       "    <tr>\n",
       "      <th>2</th>\n",
       "      <td>2010</td>\n",
       "      <td>998</td>\n",
       "      <td>90385</td>\n",
       "      <td>70</td>\n",
       "      <td>5.0</td>\n",
       "      <td>18</td>\n",
       "      <td>2</td>\n",
       "      <td>0</td>\n",
       "      <td>0</td>\n",
       "      <td>0</td>\n",
       "      <td>...</td>\n",
       "      <td>1</td>\n",
       "      <td>0</td>\n",
       "      <td>0</td>\n",
       "      <td>0</td>\n",
       "      <td>0</td>\n",
       "      <td>0</td>\n",
       "      <td>0</td>\n",
       "      <td>0</td>\n",
       "      <td>0</td>\n",
       "      <td>0</td>\n",
       "    </tr>\n",
       "    <tr>\n",
       "      <th>3</th>\n",
       "      <td>2010</td>\n",
       "      <td>796</td>\n",
       "      <td>110000</td>\n",
       "      <td>50</td>\n",
       "      <td>5.0</td>\n",
       "      <td>20</td>\n",
       "      <td>3</td>\n",
       "      <td>0</td>\n",
       "      <td>0</td>\n",
       "      <td>0</td>\n",
       "      <td>...</td>\n",
       "      <td>0</td>\n",
       "      <td>0</td>\n",
       "      <td>1</td>\n",
       "      <td>0</td>\n",
       "      <td>0</td>\n",
       "      <td>0</td>\n",
       "      <td>0</td>\n",
       "      <td>0</td>\n",
       "      <td>0</td>\n",
       "      <td>0</td>\n",
       "    </tr>\n",
       "    <tr>\n",
       "      <th>4</th>\n",
       "      <td>2018</td>\n",
       "      <td>1197</td>\n",
       "      <td>58000</td>\n",
       "      <td>80</td>\n",
       "      <td>5.0</td>\n",
       "      <td>18</td>\n",
       "      <td>4</td>\n",
       "      <td>1</td>\n",
       "      <td>0</td>\n",
       "      <td>0</td>\n",
       "      <td>...</td>\n",
       "      <td>0</td>\n",
       "      <td>0</td>\n",
       "      <td>1</td>\n",
       "      <td>0</td>\n",
       "      <td>0</td>\n",
       "      <td>0</td>\n",
       "      <td>0</td>\n",
       "      <td>0</td>\n",
       "      <td>0</td>\n",
       "      <td>0</td>\n",
       "    </tr>\n",
       "  </tbody>\n",
       "</table>\n",
       "<p>5 rows × 58 columns</p>\n",
       "</div>"
      ],
      "text/plain": [
       "  registered_year engine_capacity kms_driven max_power  seats mileage  ID  \\\n",
       "0            2017            1197      53658        80    5.0      18   0   \n",
       "1            2021            1197      33055        80    5.0      22   1   \n",
       "2            2010             998      90385        70    5.0      18   2   \n",
       "3            2010             796     110000        50    5.0      20   3   \n",
       "4            2018            1197      58000        80    5.0      18   4   \n",
       "\n",
       "   Comprehensive  None  Not Available  ...  Chandigarh  Chennai  Delhi  \\\n",
       "0              1     0              0  ...           0        0      0   \n",
       "1              0     0              1  ...           0        0      0   \n",
       "2              0     0              0  ...           1        0      0   \n",
       "3              0     0              0  ...           0        0      1   \n",
       "4              1     0              0  ...           0        0      1   \n",
       "\n",
       "   Gurgaon  Hyderabad  Jaipur  Kolkata  Lucknow  Mumbai  Pune  \n",
       "0        0          0       0        0        0       1     0  \n",
       "1        0          0       1        0        0       0     0  \n",
       "2        0          0       0        0        0       0     0  \n",
       "3        0          0       0        0        0       0     0  \n",
       "4        0          0       0        0        0       0     0  \n",
       "\n",
       "[5 rows x 58 columns]"
      ]
     },
     "execution_count": 54,
     "metadata": {},
     "output_type": "execute_result"
    }
   ],
   "source": [
    "#Alternatively, you can use the inplace parameter to modify the DataFrame in place\n",
    "test_data.drop('full_name', axis=1, inplace=True)\n",
    "\n",
    "# Print the updated DataFrame\n",
    "test_data.head()\n"
   ]
  },
  {
   "cell_type": "code",
   "execution_count": 55,
   "metadata": {},
   "outputs": [
    {
     "data": {
      "text/plain": [
       "(3490, 58)"
      ]
     },
     "execution_count": 55,
     "metadata": {},
     "output_type": "execute_result"
    }
   ],
   "source": [
    "test_data.shape"
   ]
  },
  {
   "cell_type": "code",
   "execution_count": 56,
   "metadata": {},
   "outputs": [],
   "source": [
    "test_data.to_csv('./TestDataScenario1.csv',index=False)"
   ]
  }
 ],
 "metadata": {
  "kernelspec": {
   "display_name": "Python 3",
   "language": "python",
   "name": "python3"
  },
  "language_info": {
   "codemirror_mode": {
    "name": "ipython",
    "version": 3
   },
   "file_extension": ".py",
   "mimetype": "text/x-python",
   "name": "python",
   "nbconvert_exporter": "python",
   "pygments_lexer": "ipython3",
   "version": "3.12.0"
  }
 },
 "nbformat": 4,
 "nbformat_minor": 2
}
