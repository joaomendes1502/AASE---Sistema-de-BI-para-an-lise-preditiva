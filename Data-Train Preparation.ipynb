{
 "cells": [
  {
   "cell_type": "code",
   "execution_count": 380,
   "metadata": {},
   "outputs": [],
   "source": [
    "import pandas as pd"
   ]
  },
  {
   "cell_type": "code",
   "execution_count": 381,
   "metadata": {},
   "outputs": [
    {
     "data": {
      "text/html": [
       "<div>\n",
       "<style scoped>\n",
       "    .dataframe tbody tr th:only-of-type {\n",
       "        vertical-align: middle;\n",
       "    }\n",
       "\n",
       "    .dataframe tbody tr th {\n",
       "        vertical-align: top;\n",
       "    }\n",
       "\n",
       "    .dataframe thead th {\n",
       "        text-align: right;\n",
       "    }\n",
       "</style>\n",
       "<table border=\"1\" class=\"dataframe\">\n",
       "  <thead>\n",
       "    <tr style=\"text-align: right;\">\n",
       "      <th></th>\n",
       "      <th>full_name</th>\n",
       "      <th>registered_year</th>\n",
       "      <th>engine_capacity</th>\n",
       "      <th>insurance</th>\n",
       "      <th>transmission_type</th>\n",
       "      <th>kms_driven</th>\n",
       "      <th>owner_type</th>\n",
       "      <th>fuel_type</th>\n",
       "      <th>max_power</th>\n",
       "      <th>seats</th>\n",
       "      <th>mileage</th>\n",
       "      <th>body_type</th>\n",
       "      <th>city</th>\n",
       "      <th>resale_price_Lakh</th>\n",
       "    </tr>\n",
       "  </thead>\n",
       "  <tbody>\n",
       "    <tr>\n",
       "      <th>0</th>\n",
       "      <td>2019 Tata Tiago XZ Plus</td>\n",
       "      <td>Nov 2019</td>\n",
       "      <td>1199 cc</td>\n",
       "      <td>Third Party</td>\n",
       "      <td>Manual</td>\n",
       "      <td>30,910 Kms</td>\n",
       "      <td>First Owner</td>\n",
       "      <td>Petrol</td>\n",
       "      <td>83.83bhp</td>\n",
       "      <td>5.0</td>\n",
       "      <td>23.84 kmpl</td>\n",
       "      <td>Hatchback</td>\n",
       "      <td>Pune</td>\n",
       "      <td>5.66</td>\n",
       "    </tr>\n",
       "    <tr>\n",
       "      <th>1</th>\n",
       "      <td>2018 Honda WR-V i-VTEC VX</td>\n",
       "      <td>Apr 2018</td>\n",
       "      <td>1199 cc</td>\n",
       "      <td>Zero Dep</td>\n",
       "      <td>Manual</td>\n",
       "      <td>48,089 Kms</td>\n",
       "      <td>Third Owner</td>\n",
       "      <td>Petrol</td>\n",
       "      <td>88.7bhp</td>\n",
       "      <td>5.0</td>\n",
       "      <td>17.5 kmpl</td>\n",
       "      <td>SUV</td>\n",
       "      <td>Jaipur</td>\n",
       "      <td>6.64</td>\n",
       "    </tr>\n",
       "    <tr>\n",
       "      <th>2</th>\n",
       "      <td>2015 Honda City i VTEC SV</td>\n",
       "      <td>May 2015</td>\n",
       "      <td>1497 cc</td>\n",
       "      <td>Third Party insurance</td>\n",
       "      <td>Manual</td>\n",
       "      <td>51,000 Kms</td>\n",
       "      <td>Second Owner</td>\n",
       "      <td>Petrol</td>\n",
       "      <td>117.3bhp</td>\n",
       "      <td>5.0</td>\n",
       "      <td>17.4 kmpl</td>\n",
       "      <td>Sedan</td>\n",
       "      <td>Mumbai</td>\n",
       "      <td>5.65</td>\n",
       "    </tr>\n",
       "    <tr>\n",
       "      <th>3</th>\n",
       "      <td>2021 Tata New Safari XZA Plus Adventure Editio...</td>\n",
       "      <td>2021</td>\n",
       "      <td>1956 cc</td>\n",
       "      <td>Third Party insurance</td>\n",
       "      <td>Automatic</td>\n",
       "      <td>30,000 Kms</td>\n",
       "      <td>First Owner</td>\n",
       "      <td>Diesel</td>\n",
       "      <td>167.67bhp</td>\n",
       "      <td>7.0</td>\n",
       "      <td>14.08 kmpl</td>\n",
       "      <td>SUV</td>\n",
       "      <td>Mumbai</td>\n",
       "      <td>23.00</td>\n",
       "    </tr>\n",
       "    <tr>\n",
       "      <th>4</th>\n",
       "      <td>2019 Maruti Baleno 1.2 CVT Zeta</td>\n",
       "      <td>Jun 2019</td>\n",
       "      <td>1197 cc</td>\n",
       "      <td>Zero Dep</td>\n",
       "      <td>Automatic</td>\n",
       "      <td>61,113 Kms</td>\n",
       "      <td>First Owner</td>\n",
       "      <td>Petrol</td>\n",
       "      <td>83.1bhp</td>\n",
       "      <td>5.0</td>\n",
       "      <td>21.4 kmpl</td>\n",
       "      <td>Hatchback</td>\n",
       "      <td>Kolkata</td>\n",
       "      <td>6.87</td>\n",
       "    </tr>\n",
       "  </tbody>\n",
       "</table>\n",
       "</div>"
      ],
      "text/plain": [
       "                                           full_name registered_year  \\\n",
       "0                            2019 Tata Tiago XZ Plus        Nov 2019   \n",
       "1                          2018 Honda WR-V i-VTEC VX        Apr 2018   \n",
       "2                          2015 Honda City i VTEC SV        May 2015   \n",
       "3  2021 Tata New Safari XZA Plus Adventure Editio...            2021   \n",
       "4                    2019 Maruti Baleno 1.2 CVT Zeta        Jun 2019   \n",
       "\n",
       "  engine_capacity              insurance transmission_type  kms_driven  \\\n",
       "0         1199 cc            Third Party            Manual  30,910 Kms   \n",
       "1         1199 cc               Zero Dep            Manual  48,089 Kms   \n",
       "2         1497 cc  Third Party insurance            Manual  51,000 Kms   \n",
       "3         1956 cc  Third Party insurance         Automatic  30,000 Kms   \n",
       "4         1197 cc               Zero Dep         Automatic  61,113 Kms   \n",
       "\n",
       "     owner_type fuel_type  max_power  seats     mileage  body_type     city  \\\n",
       "0   First Owner    Petrol   83.83bhp    5.0  23.84 kmpl  Hatchback     Pune   \n",
       "1   Third Owner    Petrol    88.7bhp    5.0   17.5 kmpl        SUV   Jaipur   \n",
       "2  Second Owner    Petrol   117.3bhp    5.0   17.4 kmpl      Sedan   Mumbai   \n",
       "3   First Owner    Diesel  167.67bhp    7.0  14.08 kmpl        SUV   Mumbai   \n",
       "4   First Owner    Petrol    83.1bhp    5.0   21.4 kmpl  Hatchback  Kolkata   \n",
       "\n",
       "   resale_price_Lakh  \n",
       "0               5.66  \n",
       "1               6.64  \n",
       "2               5.65  \n",
       "3              23.00  \n",
       "4               6.87  "
      ]
     },
     "execution_count": 381,
     "metadata": {},
     "output_type": "execute_result"
    }
   ],
   "source": [
    "train_data = pd.read_csv('./train.csv')\n",
    "train_data.head()"
   ]
  },
  {
   "cell_type": "code",
   "execution_count": 382,
   "metadata": {},
   "outputs": [
    {
     "name": "stdout",
     "output_type": "stream",
     "text": [
      "<class 'pandas.core.frame.DataFrame'>\n",
      "RangeIndex: 13956 entries, 0 to 13955\n",
      "Data columns (total 14 columns):\n",
      " #   Column             Non-Null Count  Dtype  \n",
      "---  ------             --------------  -----  \n",
      " 0   full_name          13956 non-null  object \n",
      " 1   registered_year    13902 non-null  object \n",
      " 2   engine_capacity    13947 non-null  object \n",
      " 3   insurance          13951 non-null  object \n",
      " 4   transmission_type  13956 non-null  object \n",
      " 5   kms_driven         13953 non-null  object \n",
      " 6   owner_type         13920 non-null  object \n",
      " 7   fuel_type          13956 non-null  object \n",
      " 8   max_power          13867 non-null  object \n",
      " 9   seats              13949 non-null  float64\n",
      " 10  mileage            13549 non-null  object \n",
      " 11  body_type          13956 non-null  object \n",
      " 12  city               13956 non-null  object \n",
      " 13  resale_price_Lakh  13956 non-null  float64\n",
      "dtypes: float64(2), object(12)\n",
      "memory usage: 1.5+ MB\n"
     ]
    }
   ],
   "source": [
    "train_data.info()"
   ]
  },
  {
   "cell_type": "code",
   "execution_count": 383,
   "metadata": {},
   "outputs": [
    {
     "data": {
      "text/plain": [
       "141"
      ]
     },
     "execution_count": 383,
     "metadata": {},
     "output_type": "execute_result"
    }
   ],
   "source": [
    "#Check for duplicated rows\n",
    "train_data.duplicated().sum()\n"
   ]
  },
  {
   "cell_type": "code",
   "execution_count": 384,
   "metadata": {},
   "outputs": [
    {
     "data": {
      "text/plain": [
       "0"
      ]
     },
     "execution_count": 384,
     "metadata": {},
     "output_type": "execute_result"
    }
   ],
   "source": [
    "#Drop duplicate rows\n",
    "train_data.drop_duplicates(inplace=True)\n",
    "train_data.duplicated().sum()"
   ]
  },
  {
   "cell_type": "code",
   "execution_count": 385,
   "metadata": {},
   "outputs": [
    {
     "data": {
      "text/plain": [
       "full_name              0\n",
       "registered_year       53\n",
       "engine_capacity        9\n",
       "insurance              5\n",
       "transmission_type      0\n",
       "kms_driven             3\n",
       "owner_type            36\n",
       "fuel_type              0\n",
       "max_power             88\n",
       "seats                  7\n",
       "mileage              404\n",
       "body_type              0\n",
       "city                   0\n",
       "resale_price_Lakh      0\n",
       "dtype: int64"
      ]
     },
     "execution_count": 385,
     "metadata": {},
     "output_type": "execute_result"
    }
   ],
   "source": [
    "#Check for null values\n",
    "train_data.isna().sum()"
   ]
  },
  {
   "cell_type": "code",
   "execution_count": 386,
   "metadata": {},
   "outputs": [
    {
     "data": {
      "text/plain": [
       "0        Nov 2019\n",
       "1        Apr 2018\n",
       "2        May 2015\n",
       "3            2021\n",
       "4        Jun 2019\n",
       "           ...   \n",
       "13951        2021\n",
       "13952    Dec 2017\n",
       "13953    Jan 2018\n",
       "13954    Apr 2017\n",
       "13955    Mar 2015\n",
       "Name: registered_year, Length: 13815, dtype: object"
      ]
     },
     "execution_count": 386,
     "metadata": {},
     "output_type": "execute_result"
    }
   ],
   "source": [
    "#Transform registered_year\n",
    "train_data['registered_year']"
   ]
  },
  {
   "cell_type": "code",
   "execution_count": 387,
   "metadata": {},
   "outputs": [
    {
     "data": {
      "text/plain": [
       "0        2019\n",
       "1        2018\n",
       "2        2015\n",
       "3        2021\n",
       "4        2019\n",
       "         ... \n",
       "13951    2021\n",
       "13952    2017\n",
       "13953    2018\n",
       "13954    2017\n",
       "13955    2015\n",
       "Name: registered_year, Length: 13815, dtype: object"
      ]
     },
     "execution_count": 387,
     "metadata": {},
     "output_type": "execute_result"
    }
   ],
   "source": [
    "# Extract the year using a regular expression\n",
    "train_data['registered_year'] = train_data['registered_year'].str.extract(r'(\\d{4})')\n",
    "\n",
    "# Display the updated DataFrame\n",
    "train_data['registered_year']"
   ]
  },
  {
   "cell_type": "code",
   "execution_count": 388,
   "metadata": {},
   "outputs": [
    {
     "data": {
      "text/plain": [
       "0        1199 cc\n",
       "1        1199 cc\n",
       "2        1497 cc\n",
       "3        1956 cc\n",
       "4        1197 cc\n",
       "          ...   \n",
       "13951    2199 cc\n",
       "13952    1197 cc\n",
       "13953    1498 cc\n",
       "13954    1248 cc\n",
       "13955    1198 cc\n",
       "Name: engine_capacity, Length: 13815, dtype: object"
      ]
     },
     "execution_count": 388,
     "metadata": {},
     "output_type": "execute_result"
    }
   ],
   "source": [
    "#Transform engine_capacity\n",
    "train_data['engine_capacity']"
   ]
  },
  {
   "cell_type": "code",
   "execution_count": 389,
   "metadata": {},
   "outputs": [
    {
     "data": {
      "text/plain": [
       "array(['1199', '1497', '1956', '1197', '2993', '1598', '1995', '999',\n",
       "       '2143', '2987', '1248', '2498', '1194', '1364', '2179', '1451',\n",
       "       '1999', '1498', '1591', '1582', '1462', '1198', '1493', '799',\n",
       "       '1499', '1196', '995', '1482', '1991', '998', '2199', '796',\n",
       "       '2494', nan, '2393', '1298', '1799', '1396', '1086', '814', '1798',\n",
       "       '1968', '2982', '1120', '2477', '1998', '1985', '3198', '1461',\n",
       "       '1193', '1373', '936', '1399', '1353', '2925', '0', '2967', '1896',\n",
       "       '2148', '1997', '2354', '1950', '624', '1186', '2650', '1395',\n",
       "       '1368', '1390', '1797', '2694', '1061', '1330', '1047', '2755',\n",
       "       '1796', '1794', '1969', '2487', '1496', '1595', '1586', '2400',\n",
       "       '2523', '1332', '2835', '2998', '1596', '1405', '2999', '2157',\n",
       "       '1108', '1597', '2184', '2956', '1341', '2996', '72', '1490',\n",
       "       '1993', '2497', '4367', '3498', '2953', '1495', '4999', '1388',\n",
       "       '1984', '1589', '2696', '2609', '2198', '2360', '5000', '4663',\n",
       "       '1996', '1150', '993', '3604', '2446', '3200', '1172', '4134',\n",
       "       '5461', '2995', '2997', '2496', '2499', '3982', '5998', '4395',\n",
       "       '909', '2489', '2698', '2979', '2596', '3471', '4806', '1389',\n",
       "       '1948', '1299', '1242', '1781', '1349', '1468', '2894', '3597',\n",
       "       '1599', '2359', '2231', '2200', '1898', '2147', '4951', '2112'],\n",
       "      dtype=object)"
      ]
     },
     "execution_count": 389,
     "metadata": {},
     "output_type": "execute_result"
    }
   ],
   "source": [
    "# Extract the numeric part using a regular expression\n",
    "train_data['engine_capacity'] = train_data['engine_capacity'].str.rstrip(' cc')\n",
    "\n",
    "# Display the updated DataFrame\n",
    "train_data['engine_capacity'].unique()"
   ]
  },
  {
   "cell_type": "code",
   "execution_count": 390,
   "metadata": {},
   "outputs": [
    {
     "data": {
      "text/plain": [
       "0                  Third Party\n",
       "1                     Zero Dep\n",
       "2        Third Party insurance\n",
       "3        Third Party insurance\n",
       "4                     Zero Dep\n",
       "                 ...          \n",
       "13951    Third Party insurance\n",
       "13952    Third Party insurance\n",
       "13953            Comprehensive\n",
       "13954            Comprehensive\n",
       "13955            Comprehensive\n",
       "Name: insurance, Length: 13815, dtype: object"
      ]
     },
     "execution_count": 390,
     "metadata": {},
     "output_type": "execute_result"
    }
   ],
   "source": [
    "#Transform insurance\n",
    "train_data['insurance']"
   ]
  },
  {
   "cell_type": "code",
   "execution_count": 391,
   "metadata": {},
   "outputs": [
    {
     "data": {
      "text/plain": [
       "array(['Third Party', 'Zero Dep', 'Third Party insurance',\n",
       "       'Comprehensive', 'Not Available', '1', '2', nan], dtype=object)"
      ]
     },
     "execution_count": 391,
     "metadata": {},
     "output_type": "execute_result"
    }
   ],
   "source": [
    "#Check values\n",
    "train_data['insurance'].unique()"
   ]
  },
  {
   "cell_type": "code",
   "execution_count": 392,
   "metadata": {},
   "outputs": [
    {
     "data": {
      "text/plain": [
       "0           Manual\n",
       "1           Manual\n",
       "2           Manual\n",
       "3        Automatic\n",
       "4        Automatic\n",
       "           ...    \n",
       "13951    Automatic\n",
       "13952       Manual\n",
       "13953       Manual\n",
       "13954       Manual\n",
       "13955       Manual\n",
       "Name: transmission_type, Length: 13815, dtype: object"
      ]
     },
     "execution_count": 392,
     "metadata": {},
     "output_type": "execute_result"
    }
   ],
   "source": [
    "#Transmission_type - No problems to solve\n",
    "train_data['transmission_type']"
   ]
  },
  {
   "cell_type": "code",
   "execution_count": 393,
   "metadata": {},
   "outputs": [
    {
     "data": {
      "text/plain": [
       "array(['Manual', 'Automatic'], dtype=object)"
      ]
     },
     "execution_count": 393,
     "metadata": {},
     "output_type": "execute_result"
    }
   ],
   "source": [
    "train_data['transmission_type'].unique()"
   ]
  },
  {
   "cell_type": "code",
   "execution_count": 394,
   "metadata": {},
   "outputs": [
    {
     "data": {
      "text/plain": [
       "0        30,910 Kms\n",
       "1        48,089 Kms\n",
       "2        51,000 Kms\n",
       "3        30,000 Kms\n",
       "4        61,113 Kms\n",
       "            ...    \n",
       "13951    80,000 Kms\n",
       "13952    17,923 Kms\n",
       "13953    63,389 Kms\n",
       "13954    40,000 Kms\n",
       "13955    33,046 Kms\n",
       "Name: kms_driven, Length: 13815, dtype: object"
      ]
     },
     "execution_count": 394,
     "metadata": {},
     "output_type": "execute_result"
    }
   ],
   "source": [
    "#Kms_driven\n",
    "train_data['kms_driven']"
   ]
  },
  {
   "cell_type": "code",
   "execution_count": 395,
   "metadata": {},
   "outputs": [
    {
     "data": {
      "text/plain": [
       "array(['30,910 Kms', '48,089 Kms', '51,000 Kms', ..., '17,923 Kms',\n",
       "       '63,389 Kms', '33,046 Kms'], dtype=object)"
      ]
     },
     "execution_count": 395,
     "metadata": {},
     "output_type": "execute_result"
    }
   ],
   "source": [
    "train_data['kms_driven'].unique()"
   ]
  },
  {
   "cell_type": "code",
   "execution_count": 396,
   "metadata": {},
   "outputs": [
    {
     "data": {
      "text/plain": [
       "array(['30910', '48089', '51000', ..., '17923', '63389', '33046'],\n",
       "      dtype=object)"
      ]
     },
     "execution_count": 396,
     "metadata": {},
     "output_type": "execute_result"
    }
   ],
   "source": [
    "# Remove 'Kms' and commas, convert to numeric\n",
    "train_data['kms_driven'] = train_data['kms_driven'].str.replace(' Kms', '').str.replace(',', '')\n",
    "\n",
    "# Check the unique values again\n",
    "train_data['kms_driven'].unique()"
   ]
  },
  {
   "cell_type": "code",
   "execution_count": 397,
   "metadata": {},
   "outputs": [
    {
     "data": {
      "text/plain": [
       "0         First Owner\n",
       "1         Third Owner\n",
       "2        Second Owner\n",
       "3         First Owner\n",
       "4         First Owner\n",
       "             ...     \n",
       "13951    Second Owner\n",
       "13952     First Owner\n",
       "13953    Second Owner\n",
       "13954    Second Owner\n",
       "13955     First Owner\n",
       "Name: owner_type, Length: 13815, dtype: object"
      ]
     },
     "execution_count": 397,
     "metadata": {},
     "output_type": "execute_result"
    }
   ],
   "source": [
    "#Owner_Type - No errors to solve\n",
    "train_data['owner_type']"
   ]
  },
  {
   "cell_type": "code",
   "execution_count": 398,
   "metadata": {},
   "outputs": [
    {
     "data": {
      "text/plain": [
       "array(['First Owner', 'Third Owner', 'Second Owner', 'Fifth Owner',\n",
       "       'Fourth Owner', nan], dtype=object)"
      ]
     },
     "execution_count": 398,
     "metadata": {},
     "output_type": "execute_result"
    }
   ],
   "source": [
    "train_data['owner_type'].unique()"
   ]
  },
  {
   "cell_type": "code",
   "execution_count": 399,
   "metadata": {},
   "outputs": [
    {
     "data": {
      "text/plain": [
       "0        Petrol\n",
       "1        Petrol\n",
       "2        Petrol\n",
       "3        Diesel\n",
       "4        Petrol\n",
       "          ...  \n",
       "13951    Diesel\n",
       "13952    Petrol\n",
       "13953    Diesel\n",
       "13954    Diesel\n",
       "13955    Petrol\n",
       "Name: fuel_type, Length: 13815, dtype: object"
      ]
     },
     "execution_count": 399,
     "metadata": {},
     "output_type": "execute_result"
    }
   ],
   "source": [
    "#Fuel_type - No errors to solve\n",
    "train_data['fuel_type']"
   ]
  },
  {
   "cell_type": "code",
   "execution_count": 400,
   "metadata": {},
   "outputs": [
    {
     "data": {
      "text/plain": [
       "array(['Petrol', 'Diesel', 'CNG', 'Electric', 'LPG'], dtype=object)"
      ]
     },
     "execution_count": 400,
     "metadata": {},
     "output_type": "execute_result"
    }
   ],
   "source": [
    "train_data['fuel_type'].unique()"
   ]
  },
  {
   "cell_type": "code",
   "execution_count": 401,
   "metadata": {},
   "outputs": [
    {
     "data": {
      "text/plain": [
       "0         83.83bhp\n",
       "1          88.7bhp\n",
       "2         117.3bhp\n",
       "3        167.67bhp\n",
       "4          83.1bhp\n",
       "           ...    \n",
       "13951     197.2bhp\n",
       "13952     81.83bhp\n",
       "13953     108.6bhp\n",
       "13954      88.5bhp\n",
       "13955      86.7bhp\n",
       "Name: max_power, Length: 13815, dtype: object"
      ]
     },
     "execution_count": 401,
     "metadata": {},
     "output_type": "execute_result"
    }
   ],
   "source": [
    "#Max_Power\n",
    "train_data['max_power']"
   ]
  },
  {
   "cell_type": "code",
   "execution_count": 402,
   "metadata": {},
   "outputs": [
    {
     "data": {
      "text/plain": [
       "array(['83.83bhp', '88.7bhp', '117.3bhp', '167.67bhp', '83.1bhp',\n",
       "       '261.49bhp', '81.86bhp', '103.5bhp', '187.74bhp', '98.63bhp',\n",
       "       '67bhp', '170bhp', '108.5bhp', '88.50bhp', '117.6bhp', '258bhp',\n",
       "       '74bhp', '105bhp', '94.68bhp', nan, '152.87bhp', '81.83bhp',\n",
       "       '141bhp', '78.9bhp', '177bhp', '98.59bhp', '121.3bhp', '126.2bhp',\n",
       "       '91.18bhp', '82bhp', '103bhp', '254.8bhp', '113.98bhp', '53.64bhp',\n",
       "       '113.18bhp', '110bhp', '118.35bhp', '86.8bhp', '63 PS',\n",
       "       '121.36bhp', '157.81bhp', '147.9bhp', '116.3bhp', '67.1bhp',\n",
       "       '98.6bhp', '197.26bhp', '118.36bhp', '47.33bhp',\n",
       "       '105 PS at 5250 rpm', '67.05bhp', '71.01bhp', '86.7bhp', '75 PS',\n",
       "       '99.23bhp', '102', '73.9bhp', '58.2bhp', '75bhp', '55.92bhp',\n",
       "       '101.65bhp', '47.3bhp', '147.8bhp', '187.7bhp', '121bhp',\n",
       "       '81.80bhp', '85.8bhp', '130.2bhp', '98.96bhp', '84bhp', '67.04bhp',\n",
       "       '73.94bhp', '88.5bhp', '88.76bhp', '68.05bhp', '58bhp', '58.33bhp',\n",
       "       '184bhp', '108.62bhp', '152.88bhp', '148bhp', '80 PS at 5200 rpm',\n",
       "       '61.7bhp', '88.8bhp', '63', '55.2bhp', '88.73bhp', '79.4bhp',\n",
       "       '62.1bhp', '46.3bhp', '147.52bhp', '65.71bhp', '84.82bhp',\n",
       "       '168.5bhp', '188bhp', '178bhp', '113.43bhp', '70bhp', '177.46bhp',\n",
       "       '53.26bhp', '113.45bhp', '73bhp', '175.56bhp', '62bhp', '74.02bhp',\n",
       "       '163bhp', '58.16bhp', '174.33bhp', '197bhp', '83.8bhp', '64.1bhp',\n",
       "       '91.1bhp', '85.80bhp', '237.36bhp', '73.75bhp', '117.60bhp',\n",
       "       '138.1bhp', '82.9bhp', '246.74bhp', '110', '108.49bhp',\n",
       "       '301.73bhp', '57.6bhp', '86.83bhp', '68', '140bhp', '138.05bhp',\n",
       "       '325.86bhp3600-4200rpm', '100bhp', '75.94bhp', '103.26bhp',\n",
       "       '140.8bhp', '76bhp', '241.4bhp', '165 [224] at 3800', '105PS',\n",
       "       '105.5bhp', '170', '152 PS', '174.33', '191.76bhp', '157.75bhp',\n",
       "       '89.75bhp', '157.7bhp', '68bhp', '102.5bhp', '35 Bhp', '127bhp',\n",
       "       '37bhp', '100.6bhp', '73.97bhp', '108.6bhp', '89.84bhp',\n",
       "       '80.84bhp', '265bhp', '98.82bhp', '147.51bhp', '197.13bhp',\n",
       "       '69bhp', '103.2bhp', '103.52bhp', '138.08bhp', '90(66)', '183bhp',\n",
       "       '99bhp', '110.4bhp', '118PS at 6,600 rpm', '160bhp', '112bhp',\n",
       "       '65.39bhp', '75', '106', '66.1bhp', '63.1bhp', '194bhp',\n",
       "       '90PS at 4000rpm', '197.2bhp', '147.5bhp', '136bhp', '160.77bhp',\n",
       "       '116.4bhp', '191.7bhp', '163.7bhp', '82.4bhp', '84.8bhp', '64',\n",
       "       '190bhp', '203bhp', '153.866bhp', '138.12bhp', '40.3bhp',\n",
       "       '67.06bhp', '201.15bhp', '53.3bhp', '153.86bhp', '157.8bhp',\n",
       "       '113.42bhp', '261.50bhp', '83.81bhp', '186bhp', '63.12bhp',\n",
       "       '132PS', '139.46bhp', '170.63bhp', '138bhp', '175.67bhp', '77bhp',\n",
       "       '72.40bhp', '78', '120.96bhp', '130bhp', '171.5bhp', '86.63bhp',\n",
       "       '70.02bhp', '120.69bhp', '93.87bhp', '103.3bhp', '103.25bhp',\n",
       "       '88bhp', '103.6bhp', '200bhp', '113.4bhp', '181.04bhp', '83.14bhp',\n",
       "       '75.10bhp', '120bhp', '167.68bhp', '56.3bhp', '93.7bhp', '143bhp',\n",
       "       '63bhp', '160.92bhp', '138.03bhp', '107.2bhp', '88.77bhp',\n",
       "       '83.11bhp', '108.495bhp', '189.08bhp', '71.02bhp', '102.57bhp',\n",
       "       '126.32bhp', '335.26bhp', '108.45bhp', '101', '118.41bhp', '88.2',\n",
       "       '72bhp', '63PS at 5,400 rpm', '71 PS at 4500 rpm', '174.57bhp',\n",
       "       '224bhp', '115.05bhp', '174.5bhp', '204bhp', '177.6bhp', '104.68',\n",
       "       '177.5bhp', '100', '70.40Bhp', '163.60bhp', '82.85bhp', '100.5bhp',\n",
       "       '91.19bhp', '121.31bhp', '40.36bhp', '61.68bhp', '97.9bhp',\n",
       "       '97.89bhp', '134.1bhp', '178.49bhp', '187.4bhp', '57', '105.94bhp',\n",
       "       '92', '90 PS', '158.2bhp', '181bhp', '69.04bhp', '171 PS',\n",
       "       '270.9bhp', '83 PS', '333bhp', '40bhp', '119.35bhp', '55 Bhp',\n",
       "       '126.24bhp', '147.4bhp', '180', '235bhp', '254.7bhp', '187.40bhp',\n",
       "       '69.01bhp', '336bhp', '306bhp', '153.8bhp', '181.03bhp', '94',\n",
       "       '91.7bhp', '71bhp', '147.94bhp', '248.08bhp', '203.2bhp', '53.5',\n",
       "       '175bhp', '194.44bhp', '503bhp', '35 bhp', '115bhp', '136.78bhp',\n",
       "       '87.2bhp', '48.21bhp', '254.79bhp', '138.02bhp', '218',\n",
       "       '335.25bhp', '76.43bhp', '185bhp', '241.39bhp', '174.3bhp',\n",
       "       '126.3bhp', '104.5bhp', '150bhp', '93 PS', '97.7bhp', '70', '85ps',\n",
       "       '235', '194.3bhp', '123.37bhp', '112bhp at 3800 rpm', '59.17bhp',\n",
       "       '194.4bhp', '37.5bhp', '162bhp', '116.6', '59.18bhp', '79.65bhp',\n",
       "       '182.46bhp', '37.48bhp', '167.7bhp', '92.7bhp', '214.5bhp',\n",
       "       '218bhp', '296bhp', '281.61bhp', '241.38bhp', '167.6bhp',\n",
       "       '201.1bhp', '182.38bhp', '272bhp', '84.88bhp', '101.64bhp', '178',\n",
       "       '91.72bhp', '75PS', '170PS', '82.9', '25.5bhp', '172.35bhp',\n",
       "       '158bhp', '57.5', '156.9bhp', '502.8bhp', '38.4bhp', '25.4bhp',\n",
       "       '66(90) / 4000', '80.46bhp', '149.92bhp', '120bhp (86.7kw)',\n",
       "       '241.3bhp', '94.93bhp', '138.13bhp', '161.6', '453.26bhp',\n",
       "       '435bhp', '167.62bhp', '221.3bhp', '245.59bhp', '375.48bhp',\n",
       "       '109PS', '107.3bhp', '70 bhp at 5400 rpm', '66.6', '76', '177',\n",
       "       '248bhp', '74.96bhp', '271.2bhp', '172.45bhp', '384.87bhp',\n",
       "       '60 PS', '64bhp', '173bhp', '280bhp', '215.01bhp', '76.8bhp',\n",
       "       '85bhp', '41.42bhp', '303.7bhp', '300kWbhp', '65', '108.48bhp',\n",
       "       '65 PS at 5500 rpm', '335.2bhp', '103.39bhp', '270.88bhp',\n",
       "       '362.9bhp', '110.5bhp', '294.9bhp', '245.40bhp', '108.50bhp',\n",
       "       '34.2bhp', '97.6bhp', '65bhp', '73.74bhp', '240bhp', '210',\n",
       "       '382bhp', '112.2', '99.6bhp', '123.24bhp', '125', '157.57bhp',\n",
       "       '321.84bhp', '252bhp', '178.3bhp', '296.36bhp', '208bhp',\n",
       "       '52.8bhp', '72.41bhp', '84.48bhp', '258', '114.41bhp', '380bhp',\n",
       "       '245bhp', '150 kW at 6300 rpm', '163.2', '32.5bhp', '114bhp',\n",
       "       '130.07bhp', '92bhp', '179.5bhp', '134bhp', '148.31bhp',\n",
       "       '84bhp3750rpm', '469bhp', '130.3bhp', '105', '132/4000-6000',\n",
       "       '121.4bhp', '552bhp', '96.55bhp', '442.53bhp', '120.7bhp',\n",
       "       '68.1bhp', '215', '421bhp', '32.8bhp', '115 PS', '45bhp',\n",
       "       '102.53bhp', '100 bhp', '140PS', '179.5', '367bhp', '247bhp',\n",
       "       '75PS at 4000rpm', '194.37bhp', '86.76bhp', '320bhp', '86.79bhp',\n",
       "       '362.07bhp', '335.2', '178.4bhp', '75 PS at 4000 rpm', '308bhp',\n",
       "       '210bhp', '237.4bhp', '80.9bhp', '100.57bhp', '158.8bhp',\n",
       "       '58.3bhp', '271.3bhp', '160 BHP', '400bhp', '64.9', '47', '85',\n",
       "       '82 PS', '154bhp', '558bhp', '80', '99.61bhp', '328.5bhp', '88 PS',\n",
       "       '74.9bhp', '78 kW', '268bhp', '167.63bhp', '61 PS', '78.8bhp',\n",
       "       '335.3bhp', '134hp', '98.79bhp', '110(150)/5700', '71 PS',\n",
       "       '85 PS at 6000rpm', '153.87bhp', '104.55bhp', '75 bhp at 5400 rpm',\n",
       "       '70.67bhp', '169bhp', '80bhp', '379.7bhp', '257.47bhp', '340bhp',\n",
       "       '59bhp', '443.87bhp', '214.56bhp', '91.2bhp', '118.3bhp',\n",
       "       '212.55bhp', '180kw', '140', '35', '360bhp', '170.6bhp',\n",
       "       '97.64bhp', '260.0', '261.4bhp', '300bhp', '89bhp', '86.80bhp',\n",
       "       '112.44bhp', '402.30Bhpbhp', '75.09bhp', '74.93bhp', '103.2',\n",
       "       '236bhp', '53bhp', '255bhp', '68.07bhp', '198.25bhp', '155bhp',\n",
       "       '118.6', '420bhp', '65.03bhp', '63 HP at 3200 rpm', '151.89bhp',\n",
       "       '73.8bhp', '144', '72.4bhp', '141.1bhp', '120.3bhp', '134.10bhp',\n",
       "       '282bhp', '98bhp', '215bhp', '104 PS', '82.5bhp',\n",
       "       '362.07bhp5500-6100bhp', '98.5bhp', '141.04bhp', '241.7bhp',\n",
       "       '271.23bhp', '150', '241.6bhp', '237bhp', '122bhp',\n",
       "       '100PS at 5,500rpm', '516.29bhp', '231.78bhp', '61.6bhp',\n",
       "       '76.9bhp', '53 PS', '83.1', '110 PS at 4000 RPM', '114.4bhp',\n",
       "       '170hp', '120', '321bhp', '198.5', '95.48bhp', '94 bhp', '395bhp'],\n",
       "      dtype=object)"
      ]
     },
     "execution_count": 402,
     "metadata": {},
     "output_type": "execute_result"
    }
   ],
   "source": [
    "train_data['max_power'].unique()"
   ]
  },
  {
   "cell_type": "code",
   "execution_count": 403,
   "metadata": {},
   "outputs": [],
   "source": [
    "import re\n",
    "def transform_max_power(x):\n",
    "    try:\n",
    "        if 'bhp' in x:\n",
    "            return str(10*round(1/10*float(x.rstrip('bhp'))))\n",
    "        elif 'PS' in x:\n",
    "            match = re.search(r'\\d+', x)  # Match one or more digits\n",
    "            if match:\n",
    "                return str(10*round(1/10*float(match.group())))  # Extract and convert to an integer\n",
    "            else:\n",
    "                return 'None'  # Return None if no match is found\n",
    "    except:\n",
    "        return 'None'\n",
    "train_data['max_power'] = train_data['max_power'].apply(transform_max_power)"
   ]
  },
  {
   "cell_type": "code",
   "execution_count": 404,
   "metadata": {},
   "outputs": [
    {
     "data": {
      "text/plain": [
       "0         80\n",
       "1         90\n",
       "2        120\n",
       "3        170\n",
       "4         80\n",
       "        ... \n",
       "13951    200\n",
       "13952     80\n",
       "13953    110\n",
       "13954     90\n",
       "13955     90\n",
       "Name: max_power, Length: 13815, dtype: object"
      ]
     },
     "execution_count": 404,
     "metadata": {},
     "output_type": "execute_result"
    }
   ],
   "source": [
    "train_data['max_power']"
   ]
  },
  {
   "cell_type": "code",
   "execution_count": 405,
   "metadata": {},
   "outputs": [
    {
     "data": {
      "text/plain": [
       "0        5.0\n",
       "1        5.0\n",
       "2        5.0\n",
       "3        7.0\n",
       "4        5.0\n",
       "        ... \n",
       "13951    7.0\n",
       "13952    5.0\n",
       "13953    5.0\n",
       "13954    5.0\n",
       "13955    5.0\n",
       "Name: seats, Length: 13815, dtype: float64"
      ]
     },
     "execution_count": 405,
     "metadata": {},
     "output_type": "execute_result"
    }
   ],
   "source": [
    "#seats - No problems to solve\n",
    "train_data['seats']"
   ]
  },
  {
   "cell_type": "code",
   "execution_count": 406,
   "metadata": {},
   "outputs": [
    {
     "data": {
      "text/plain": [
       "array([ 5.,  7.,  4.,  6.,  8.,  9.,  2., nan, 10.])"
      ]
     },
     "execution_count": 406,
     "metadata": {},
     "output_type": "execute_result"
    }
   ],
   "source": [
    "train_data['seats'].unique()"
   ]
  },
  {
   "cell_type": "code",
   "execution_count": 407,
   "metadata": {},
   "outputs": [
    {
     "data": {
      "text/plain": [
       "0        23.84 kmpl\n",
       "1         17.5 kmpl\n",
       "2         17.4 kmpl\n",
       "3        14.08 kmpl\n",
       "4         21.4 kmpl\n",
       "            ...    \n",
       "13951    14.11 kmpl\n",
       "13952     18.6 kmpl\n",
       "13953    21.13 kmpl\n",
       "13954     24.3 kmpl\n",
       "13955       18 kmpl\n",
       "Name: mileage, Length: 13815, dtype: object"
      ]
     },
     "execution_count": 407,
     "metadata": {},
     "output_type": "execute_result"
    }
   ],
   "source": [
    "#mileage\n",
    "train_data['mileage']"
   ]
  },
  {
   "cell_type": "code",
   "execution_count": 408,
   "metadata": {},
   "outputs": [
    {
     "data": {
      "text/plain": [
       "array(['23.84 kmpl', '17.5 kmpl', '17.4 kmpl', '14.08 kmpl', '21.4 kmpl',\n",
       "       '17.66 kmpl', '17.52 kmpl', '16.09 kmpl', '22.48 kmpl',\n",
       "       '18.24 kmpl', '21.74 kmpl', '19.27 kmpl', '23.01 kmpl',\n",
       "       '21.5 kmpl', '22.38 kmpl', '18 kmpl', '22.41 kmpl', '11 kmpl',\n",
       "       '27.39 kmpl', '16.55 kmpl', '19 kmpl', '23.59 kmpl', '15.1 kmpl',\n",
       "       '18.6 kmpl', nan, '20.36 kmpl', '16.38 kmpl', '18.2 kmpl',\n",
       "       '22.77 kmpl', '17 kmpl', '17.6 kmpl', '18.15 kmpl', '19.34 kmpl',\n",
       "       '11.3 kmpl', '20.7 kmpl', '22.9 kmpl', '14.84 kmpl', '20.71 kmpl',\n",
       "       '17.7 kmpl', '15.8 kmpl', '17.05 kmpl', '18.16 kmpl', '16 kmpl',\n",
       "       '18.7 kmpl', '14.8 kmpl', '15.74 kmpl', '18.3 kmpl', '15.6 kmpl',\n",
       "       '15.68 kmpl', '18.9 kmpl', '24.2 kmpl', '14.11 kmpl', '16.35 kmpl',\n",
       "       '22.05 kmpl', '17.01 kmpl', '23.95 kmpl', '19.17 kmpl',\n",
       "       '17.8 kmpl', '20 kmpl', '26.1 kmpl', '19.67 kmpl', '12.8 kmpl',\n",
       "       '22.07 kmpl', '26.2 kmpl', '18.06 kmpl', '14.5 kmpl', '34.05 kmpl',\n",
       "       '20.51 kmpl', '33 kmpl', '13.68 kmpl', '16.36 kmpl', '25.8 kmpl',\n",
       "       '17.3 kmpl', '21.21 kmpl', '16.47 kmpl', '13.9 kmpl', '23 kmpl',\n",
       "       '20.3 kmpl', '23.1 kmpl', '23.2 kmpl', '23.65 kmpl', '21.9 kmpl',\n",
       "       '19.81 kmpl', '30.48 km/kg', '32.52 kmpl', '18.88 kmpl',\n",
       "       '33.54 kmpl', '12.95 kmpl', '24.7 kmpl', '14.1 kmpl',\n",
       "       '21.94 km/kg', '20.89 kmpl', '22.74 kmpl', '20.14 kmpl',\n",
       "       '20.92 kmpl', '13.79 kmpl', '21.1 kmpl', '22.54 kmpl',\n",
       "       '18.97 kmpl', '17.21 kmpl', '17.92 kmpl', '25.2 kmpl', '19.7 kmpl',\n",
       "       '24.3 kmpl', '18.41 kmpl', '25.24 kmpl', '21.79 kmpl', '19.3 kmpl',\n",
       "       '19.6 kmpl', '17.36 kmpl', '12.55 kmpl', '20.8 kmpl', '19.01 kmpl',\n",
       "       '24 kmpl', '14.67 kmpl', '22.3 kmpl', '15.37 kmpl', '19.4 kmpl',\n",
       "       '13.5 kmpl', '22.1 kmpl', '28.4 kmpl', '20.4 kmpl', '22 kmpl',\n",
       "       '14.7 kmpl', '26.6 kmpl', '18.1 kmpl', '17.11 kmpl', '10.91 kmpl',\n",
       "       '20.45 kmpl', '15.64 kmpl', '16.8 kmpl', '20.08 kmpl', '20.5 kmpl',\n",
       "       '20.1 kmpl', '15.29 kmpl', '20.73 kmpl', '9.4 kmpl', '19.02 kmpl',\n",
       "       '13 kmpl', '18.5 kmpl', '19.56 kmpl', '13.93 kmpl', '14.82 kmpl',\n",
       "       '14.47 kmpl', '25.44 kmpl', '19.33 kmpl', '21.01 kmpl',\n",
       "       '16.2 kmpl', '31.79 kmpl', '26.59 kmpl', '17.29 kmpl', '19.1 kmpl',\n",
       "       '13.96 kmpl', '17.03 kmpl', '26 kmpl', '12.07 kmpl', '19.15 kmpl',\n",
       "       '17.69 kmpl', '17.43 kmpl', '12.7 kmpl', '10.1 kmpl', '26.3 kmpl',\n",
       "       '16.1 kmpl', '13.7 kmpl', '25.01 kmpl', '19.16 kmpl', '28.09 kmpl',\n",
       "       '16.82 kmpl', '31.2 kmpl', '13.24 kmpl', '21.7 kmpl', '15.26 kmpl',\n",
       "       '17.1 kmpl', '20.77 kmpl', '16.9 kmpl', '12.99 kmpl', '21.72 kmpl',\n",
       "       '22.7 kmpl', '24.39 kmpl', '16.77 kmpl', '17.84 kmpl', '13.6 kmpl',\n",
       "       '25.4 kmpl', '28 km/kg', '25 kmpl', '19.5 kmpl', '14.3 kmpl',\n",
       "       '18.78 kmpl', '16.5 kmpl', '25.83 kmpl', '15.85 kmpl',\n",
       "       '16.46 kmpl', '24.76 kmpl', '12.2 kmpl', '15.7 kmpl', '17.57 kmpl',\n",
       "       '23.7 kmpl', '18.49 kmpl', '16.98 kmpl', '19.2 kmpl', '18.23 kmpl',\n",
       "       '14.6 kmpl', '23.08 kmpl', '18.27 kmpl', '18.56 kmpl', '17.9 kmpl',\n",
       "       '25.5 kmpl', '16.24 kmpl', '21.14 kmpl', '10.75 kmpl',\n",
       "       '21.64 kmpl', '20.62 kmpl', '15.73 kmpl', '15.43 kmpl',\n",
       "       '20.68 kmpl', '14.21 kmpl', '18.19 kmpl', '16.42 kmpl',\n",
       "       '33.44 kmpl', '15 kmpl', '13.2 kmpl', '23.4 kmpl', '21.46 kmpl',\n",
       "       '17.33 kmpl', '25.17 kmpl', '20.97 kmpl', '13.4 kmpl',\n",
       "       '16.93 kmpl', '27.28 kmpl', '14.71 kmpl', '19.47 kmpl',\n",
       "       '11.74 kmpl', '19.49 kmpl', '12.5 kmpl', '17.14 kmpl',\n",
       "       '18.07 kmpl', '12.18 kmpl', '14.025 kmpl', '20.52 kmpl',\n",
       "       '18.45 kmpl', '13.73 kmpl', '27.3 kmpl', '24.52 kmpl',\n",
       "       '25.32 kmpl', '26.49 kmpl', '11.9 kmpl', '23.5 kmpl', '12.9 kmpl',\n",
       "       '11.36 kmpl', '18.8 kmpl', '16.56 kmpl', '16.14 kmpl',\n",
       "       '20.09 kmpl', '16.65 kmpl', '26.32 kmpl', '20.04 kmpl',\n",
       "       '17.19 kmpl', '19.12 kmpl', '11.1 kmpl', '14.53 kmpl',\n",
       "       '19.87 kmpl', '22.94 kmpl', '20.65 kmpl', '22.35 kmpl',\n",
       "       '14.74 kmpl', '20.85 kmpl', '18.12 kmpl', '19.44 kmpl',\n",
       "       '20.37 kmpl', '21.66 kmpl', '17.74 kmpl', '14.38 kmpl',\n",
       "       '19.69 kmpl', '16.3 kmpl', '11.79 kmpl', '22.5 kmpl', '15.04 kmpl',\n",
       "       '22.95 kmpl', '17.41 kmpl', '19.28 kmpl', '16.02 kmpl',\n",
       "       '24.04 kmpl', '20.38 kmpl', '15.96 kmpl', '17.2 kmpl',\n",
       "       '14.28 kmpl', '10.5 kmpl', '23.64 kmpl', '21.19 kmpl',\n",
       "       '22.15 kmpl', '18.75 kmpl', '21.3 kmpl', '16.95 kmpl',\n",
       "       '23.57 kmpl', '22.69 kmpl', '22.56 kmpl', '15.4 kmpl',\n",
       "       '22.32 kmpl', '11.24 kmpl', '13.38 kmpl', '14.4 kmpl',\n",
       "       '17.99 kmpl', '20.28 kmpl', '13.8 kmpl', '19.95 kmpl',\n",
       "       '17.68 kmpl', '21.56 kmpl', '12 kmpl', '21.63 kmpl', '12.6 kmpl',\n",
       "       '23.9 kmpl', '11.7 kmpl', '26.11 km/kg', '26.55 kmpl', '8 kmpl',\n",
       "       '22.61 kmpl', '26.08 km/kg', '31.59 km/kg', '20.88 km/kg',\n",
       "       '25.6 kmpl', '25.1 kmpl', '16.25 kmpl', '12.05 kmpl',\n",
       "       '30.47 km/kg', '11.88 kmpl', '15.5 kmpl', '35.6 km/kg',\n",
       "       '14.2 kmpl', '15.17 kmpl', '15.2 kmpl', '21.76 kmpl', '11.57 kmpl',\n",
       "       '14.07 kmpl', '11.5 kmpl', '15.3 kmpl', '19.59 kmpl', '8.9 kmpl',\n",
       "       '140 kmpl', '15.81 kmpl', '22.27 kmpl', '24.5 kmpl', '13.22 kmpl',\n",
       "       '26.49 km/kg', '18.76 kmpl', '10.2 kmpl', '24.35 kmpl',\n",
       "       '27.97 kmpl', '11.2 kmpl', '15.97 kmpl', '10.93 kmpl',\n",
       "       '19.62 kmpl', '18.53 kmpl', '26.68 kmpl', '11.49 kmpl',\n",
       "       '10.9 kmpl', '14.69 kmpl', '19.83 kmpl', '18.4 kmpl', '21 kmpl',\n",
       "       '19.8 kmpl', '18.09 kmpl', '16.96 kmpl', '13.17 kmpl',\n",
       "       '20.54 kmpl', '26.8 kmpl', '17.42 kmpl', '9.6 kmpl', '21.43 kmpl',\n",
       "       '17.88 kmpl', '16.13 kmpl', '23.8 kmpl', '10.54 kmpl',\n",
       "       '31.12 kmpl', '16.05 kmpl', '12.3 kmpl', '18.86 kmpl',\n",
       "       '22.71 kmpl', '14.72 kmpl', '14.16 kmpl', '14.99 kmpl',\n",
       "       '23.03 kmpl', '19.08 kmpl', '16.07 kmpl', '17.32 kmpl',\n",
       "       '20.63 kmpl', '19.03 kmpl', '13.01 kmpl', '22.25 kmpl',\n",
       "       '27.4 kmpl', '11.4 kmpl', '14 kmpl', '24.97 kmpl', '12.4 kmpl',\n",
       "       '21.49 kmpl', '21.38 kmpl', '24.8 kmpl', '12.74 kmpl',\n",
       "       '25.47 kmpl', '19.71 kmpl', '18.55 kmpl', '18.33 kmpl',\n",
       "       '14.49 kmpl', '16.73 kmpl', '12.65 kmpl', '21.1 km/kg',\n",
       "       '19.68 kmpl', '17.71 kmpl', '15.38 kmpl', '21.02 kmpl',\n",
       "       '12.81 kmpl', '20.58 kmpl', '16.78 kmpl', '16.34 kmpl', '120 kmpl',\n",
       "       '12.62 kmpl', '13.03 kmpl', '13.04 kmpl', '18.51 kmpl',\n",
       "       '21.12 kmpl', '6.7 kmpl', '21.04 kmpl', '26.83 kmpl', '110 kmpl',\n",
       "       '20.34 kmpl', '14.62 kmpl', '15.41 kmpl', '7.81 kmpl', '15.9 kmpl',\n",
       "       '14.24 kmpl', '11.81 kmpl', '11.67 kmpl', '13.47 kmpl',\n",
       "       '12.33 kmpl', '26.21 kmpl', '15.63 kmpl', '19.89 kmpl',\n",
       "       '18.48 kmpl', '8.5 kmpl', '26.6 km/kg', '19.72 kmpl', '14.9 kmpl',\n",
       "       '18.25 kmpl', '24.4 kmpl', '23.22 kmpl', '9.8 kmpl', '21.13 kmpl',\n",
       "       '9.5 kmpl', '20.86 kmpl', '27 kmpl', '14.19 kmpl', '18.05 kmpl',\n",
       "       '11.33 kmpl', '16.94 kmpl', '9.2 kmpl', '23.3 kmpl', '13.49 kmpl',\n",
       "       '14.41 kmpl', '20.25 kmpl', '15.15 kmpl', '12.35 kmpl',\n",
       "       '17.45 kmpl', '32.26 kmpl', '15.34 kmpl', '12.98 kmpl',\n",
       "       '14.01 kmpl', '9.74 kmpl', '16.6 kmpl', '20.15 kmpl', '19.39 kmpl',\n",
       "       '16.11 kmpl', '23.56 kmpl', '15.01 kmpl', '10.6 kmpl',\n",
       "       '12.83 kmpl', '14.75 kmpl', '10.8 kmpl', '15.56 kmpl', '36 kmpl',\n",
       "       '21.73 kmpl', '11.07 kmpl', '17.72 kmpl', '7.08 kmpl',\n",
       "       '19.64 kmpl', '18.67 kmpl', '20.64 kmpl', '18.44 kmpl',\n",
       "       '19.05 kmpl', '18.42 kmpl', '8.6 kmpl', '26.5 kmpl', '14.85 kmpl',\n",
       "       '30.46 kmpl', '26.11 kmpl', '13.06 kmpl', '18.32 kmpl',\n",
       "       '19.65 kmpl', '25.35 kmpl', '17.54 kmpl', '16.7 kmpl',\n",
       "       '11.78 kmpl', '24.1 kmpl', '9.43 kmpl', '24.07 kmpl', '22.8 kmpl',\n",
       "       '9 kmpl', '12.63 kmpl', '16.72 kmpl', '10.7 kmpl', '13.14 kmpl',\n",
       "       '14.81 kmpl', '12.51 kmpl', '13.1 kmpl', '17.97 kmpl',\n",
       "       '12.28 kmpl', '20.27 kmpl', '27.03 kmpl', '12.78 kmpl',\n",
       "       '21.8 kmpl', '12.1 kmpl', '19.98 kmpl', '21.27 kmpl', '13.32 kmpl',\n",
       "       '14.23 kmpl', '13.87 kmpl', '26.78 km/kg', '14.34 kmpl',\n",
       "       '11.96 kmpl', '16.39 kmpl', '14.94 kmpl', '16.4 kmpl', '8.8 kmpl',\n",
       "       '25.3 kmpl', '11.86 kmpl', '23.87 kmpl', '22.37 kmpl',\n",
       "       '19.09 kmpl', '10.26 kmpl', '12.04 kmpl', '11.8 kmpl',\n",
       "       '14.66 kmpl', '19.61 kmpl', '17.09 kmpl', '18.47 kmpl',\n",
       "       '17.85 kmpl', '14.95 kmpl', '13.45 kmpl', '11.18 kmpl',\n",
       "       '12.19 kmpl', '17.67 kmpl', '14.83 kmpl', '20.46 kmpl',\n",
       "       '18.9 km/kg', '13.44 kmpl', '12.12 kmpl', '26.55 km/kg', '10 kmpl',\n",
       "       '11.25 kmpl', '18.84 kmpl', '21.58 kmpl', '24.43 kmpl',\n",
       "       '18.69 kmpl', '13.58 kmpl', '18.64 kmpl', '19.23 kmpl',\n",
       "       '9.26 kmpl', '26.82 kmpl', '12.97 kmpl', '8.7 kmpl', '13.33 kmpl',\n",
       "       '25.19 kmpl', '8.13 kmpl', '13.05 kmpl', '15.11 kmpl',\n",
       "       '10.98 kmpl', '8.45 kmpl', '18.43 kmpl'], dtype=object)"
      ]
     },
     "execution_count": 408,
     "metadata": {},
     "output_type": "execute_result"
    }
   ],
   "source": [
    "train_data['mileage'].unique()"
   ]
  },
  {
   "cell_type": "code",
   "execution_count": 409,
   "metadata": {},
   "outputs": [],
   "source": [
    "def convert_mileage(x):\n",
    "    try:\n",
    "        if x.endswith('kmpl'):\n",
    "            return str(2*round(1/2*float(str(x).rstrip(' kmpl'))))\n",
    "        elif x.endswith('km/kg'):\n",
    "            return str(2*round(1/2*float(0.737*str(x).rstrip(' km/kg')))) # 0.737 for petrol\n",
    "    except:\n",
    "        return 'None'\n",
    "train_data['mileage'] = train_data['mileage'].apply(convert_mileage)"
   ]
  },
  {
   "cell_type": "code",
   "execution_count": 410,
   "metadata": {},
   "outputs": [
    {
     "data": {
      "text/plain": [
       "0        24\n",
       "1        18\n",
       "2        18\n",
       "3        14\n",
       "4        22\n",
       "         ..\n",
       "13951    14\n",
       "13952    18\n",
       "13953    22\n",
       "13954    24\n",
       "13955    18\n",
       "Name: mileage, Length: 13815, dtype: object"
      ]
     },
     "execution_count": 410,
     "metadata": {},
     "output_type": "execute_result"
    }
   ],
   "source": [
    "train_data['mileage']"
   ]
  },
  {
   "cell_type": "code",
   "execution_count": 411,
   "metadata": {},
   "outputs": [
    {
     "data": {
      "text/plain": [
       "0        Hatchback\n",
       "1              SUV\n",
       "2            Sedan\n",
       "3              SUV\n",
       "4        Hatchback\n",
       "           ...    \n",
       "13951          MUV\n",
       "13952    Hatchback\n",
       "13953        Sedan\n",
       "13954          SUV\n",
       "13955        Sedan\n",
       "Name: body_type, Length: 13815, dtype: object"
      ]
     },
     "execution_count": 411,
     "metadata": {},
     "output_type": "execute_result"
    }
   ],
   "source": [
    "train_data['body_type']"
   ]
  },
  {
   "cell_type": "code",
   "execution_count": 412,
   "metadata": {},
   "outputs": [
    {
     "data": {
      "text/plain": [
       "array(['Hatchback', 'SUV', 'Sedan', 'BMW', 'MUV', 'Maruti', 'Minivans',\n",
       "       'Mercedes-Benz', 'Cars', 'Coupe', 'Jaguar', 'Wagon', 'Datsun',\n",
       "       'Pickup', 'Tata', 'Honda', 'Convertibles', 'Hyundai', 'Mahindra',\n",
       "       'Volvo', 'Toyota', 'Isuzu', 'Skoda', 'Chevrolet'], dtype=object)"
      ]
     },
     "execution_count": 412,
     "metadata": {},
     "output_type": "execute_result"
    }
   ],
   "source": [
    "train_data['body_type'].unique()"
   ]
  },
  {
   "cell_type": "code",
   "execution_count": 413,
   "metadata": {},
   "outputs": [],
   "source": [
    "# Define the mapping of values to categories\n",
    "#brand_mapping = {#'BMW': 'Brand', 'Maruti': 'Brand', 'Mercedes-Benz': 'Brand', 'Jaguar': 'Brand', 'Datsun': 'Brand',\n",
    "                 #'Tata': 'Brand', 'Honda': 'Brand', 'Mahindra': 'Brand', 'Volvo': 'Brand', 'Toyota': 'Brand',\n",
    "                 #'Isuzu': 'Brand', 'Chevrolet': 'Brand',\n",
    "                 #'Hatchback': 'Body Category', 'SUV': 'Body Category',\n",
    "                 #'Sedan': 'Body Category', 'MUV': 'Body Category', 'Minivans': 'Body Category', 'Coupe': 'Body Category',\n",
    "                 #'Wagon': 'Body Category', 'Pickup': 'Body Category', 'Convertibles': 'Body Category'}\n",
    "\n",
    "# Replace values in 'body_type' column using the mapping\n",
    "#df['body_type'] = df['body_type'].replace(brand_mapping)\n",
    "\n",
    "# Print the updated 'body_type' column\n",
    "#print(df['body_type'].unique())\n"
   ]
  },
  {
   "cell_type": "code",
   "execution_count": 414,
   "metadata": {},
   "outputs": [
    {
     "data": {
      "text/plain": [
       "0        Hatchback\n",
       "1              SUV\n",
       "2            Sedan\n",
       "3              SUV\n",
       "4        Hatchback\n",
       "           ...    \n",
       "13951          MUV\n",
       "13952    Hatchback\n",
       "13953        Sedan\n",
       "13954          SUV\n",
       "13955        Sedan\n",
       "Name: body_type, Length: 13815, dtype: object"
      ]
     },
     "execution_count": 414,
     "metadata": {},
     "output_type": "execute_result"
    }
   ],
   "source": [
    "train_data['body_type']"
   ]
  },
  {
   "cell_type": "code",
   "execution_count": 415,
   "metadata": {},
   "outputs": [
    {
     "data": {
      "text/plain": [
       "0             Pune\n",
       "1           Jaipur\n",
       "2           Mumbai\n",
       "3           Mumbai\n",
       "4          Kolkata\n",
       "           ...    \n",
       "13951    Hyderabad\n",
       "13952      Gurgaon\n",
       "13953    Hyderabad\n",
       "13954    Bangalore\n",
       "13955    Bangalore\n",
       "Name: city, Length: 13815, dtype: object"
      ]
     },
     "execution_count": 415,
     "metadata": {},
     "output_type": "execute_result"
    }
   ],
   "source": [
    "#city - No problems to solve\n",
    "train_data['city']"
   ]
  },
  {
   "cell_type": "code",
   "execution_count": 416,
   "metadata": {},
   "outputs": [
    {
     "data": {
      "text/plain": [
       "array(['Pune', 'Jaipur', 'Mumbai', 'Kolkata', 'Delhi', 'Bangalore',\n",
       "       'Hyderabad', 'Chennai', 'Gurgaon', 'Chandigarh', 'Ahmedabad',\n",
       "       'Lucknow', 'Agra'], dtype=object)"
      ]
     },
     "execution_count": 416,
     "metadata": {},
     "output_type": "execute_result"
    }
   ],
   "source": [
    "train_data['city'].unique()"
   ]
  },
  {
   "cell_type": "code",
   "execution_count": 417,
   "metadata": {},
   "outputs": [
    {
     "data": {
      "text/html": [
       "<div>\n",
       "<style scoped>\n",
       "    .dataframe tbody tr th:only-of-type {\n",
       "        vertical-align: middle;\n",
       "    }\n",
       "\n",
       "    .dataframe tbody tr th {\n",
       "        vertical-align: top;\n",
       "    }\n",
       "\n",
       "    .dataframe thead th {\n",
       "        text-align: right;\n",
       "    }\n",
       "</style>\n",
       "<table border=\"1\" class=\"dataframe\">\n",
       "  <thead>\n",
       "    <tr style=\"text-align: right;\">\n",
       "      <th></th>\n",
       "      <th>full_name</th>\n",
       "      <th>registered_year</th>\n",
       "      <th>engine_capacity</th>\n",
       "      <th>insurance</th>\n",
       "      <th>transmission_type</th>\n",
       "      <th>kms_driven</th>\n",
       "      <th>owner_type</th>\n",
       "      <th>fuel_type</th>\n",
       "      <th>max_power</th>\n",
       "      <th>seats</th>\n",
       "      <th>mileage</th>\n",
       "      <th>body_type</th>\n",
       "      <th>city</th>\n",
       "      <th>resale_price_Lakh</th>\n",
       "    </tr>\n",
       "  </thead>\n",
       "  <tbody>\n",
       "    <tr>\n",
       "      <th>0</th>\n",
       "      <td>2019 Tata Tiago XZ Plus</td>\n",
       "      <td>2019</td>\n",
       "      <td>1199</td>\n",
       "      <td>Third Party</td>\n",
       "      <td>Manual</td>\n",
       "      <td>30910</td>\n",
       "      <td>First Owner</td>\n",
       "      <td>Petrol</td>\n",
       "      <td>80</td>\n",
       "      <td>5.0</td>\n",
       "      <td>24</td>\n",
       "      <td>Hatchback</td>\n",
       "      <td>Pune</td>\n",
       "      <td>5.66</td>\n",
       "    </tr>\n",
       "    <tr>\n",
       "      <th>1</th>\n",
       "      <td>2018 Honda WR-V i-VTEC VX</td>\n",
       "      <td>2018</td>\n",
       "      <td>1199</td>\n",
       "      <td>Zero Dep</td>\n",
       "      <td>Manual</td>\n",
       "      <td>48089</td>\n",
       "      <td>Third Owner</td>\n",
       "      <td>Petrol</td>\n",
       "      <td>90</td>\n",
       "      <td>5.0</td>\n",
       "      <td>18</td>\n",
       "      <td>SUV</td>\n",
       "      <td>Jaipur</td>\n",
       "      <td>6.64</td>\n",
       "    </tr>\n",
       "    <tr>\n",
       "      <th>2</th>\n",
       "      <td>2015 Honda City i VTEC SV</td>\n",
       "      <td>2015</td>\n",
       "      <td>1497</td>\n",
       "      <td>Third Party insurance</td>\n",
       "      <td>Manual</td>\n",
       "      <td>51000</td>\n",
       "      <td>Second Owner</td>\n",
       "      <td>Petrol</td>\n",
       "      <td>120</td>\n",
       "      <td>5.0</td>\n",
       "      <td>18</td>\n",
       "      <td>Sedan</td>\n",
       "      <td>Mumbai</td>\n",
       "      <td>5.65</td>\n",
       "    </tr>\n",
       "    <tr>\n",
       "      <th>3</th>\n",
       "      <td>2021 Tata New Safari XZA Plus Adventure Editio...</td>\n",
       "      <td>2021</td>\n",
       "      <td>1956</td>\n",
       "      <td>Third Party insurance</td>\n",
       "      <td>Automatic</td>\n",
       "      <td>30000</td>\n",
       "      <td>First Owner</td>\n",
       "      <td>Diesel</td>\n",
       "      <td>170</td>\n",
       "      <td>7.0</td>\n",
       "      <td>14</td>\n",
       "      <td>SUV</td>\n",
       "      <td>Mumbai</td>\n",
       "      <td>23.00</td>\n",
       "    </tr>\n",
       "    <tr>\n",
       "      <th>4</th>\n",
       "      <td>2019 Maruti Baleno 1.2 CVT Zeta</td>\n",
       "      <td>2019</td>\n",
       "      <td>1197</td>\n",
       "      <td>Zero Dep</td>\n",
       "      <td>Automatic</td>\n",
       "      <td>61113</td>\n",
       "      <td>First Owner</td>\n",
       "      <td>Petrol</td>\n",
       "      <td>80</td>\n",
       "      <td>5.0</td>\n",
       "      <td>22</td>\n",
       "      <td>Hatchback</td>\n",
       "      <td>Kolkata</td>\n",
       "      <td>6.87</td>\n",
       "    </tr>\n",
       "  </tbody>\n",
       "</table>\n",
       "</div>"
      ],
      "text/plain": [
       "                                           full_name registered_year  \\\n",
       "0                            2019 Tata Tiago XZ Plus            2019   \n",
       "1                          2018 Honda WR-V i-VTEC VX            2018   \n",
       "2                          2015 Honda City i VTEC SV            2015   \n",
       "3  2021 Tata New Safari XZA Plus Adventure Editio...            2021   \n",
       "4                    2019 Maruti Baleno 1.2 CVT Zeta            2019   \n",
       "\n",
       "  engine_capacity              insurance transmission_type kms_driven  \\\n",
       "0            1199            Third Party            Manual      30910   \n",
       "1            1199               Zero Dep            Manual      48089   \n",
       "2            1497  Third Party insurance            Manual      51000   \n",
       "3            1956  Third Party insurance         Automatic      30000   \n",
       "4            1197               Zero Dep         Automatic      61113   \n",
       "\n",
       "     owner_type fuel_type max_power  seats mileage  body_type     city  \\\n",
       "0   First Owner    Petrol        80    5.0      24  Hatchback     Pune   \n",
       "1   Third Owner    Petrol        90    5.0      18        SUV   Jaipur   \n",
       "2  Second Owner    Petrol       120    5.0      18      Sedan   Mumbai   \n",
       "3   First Owner    Diesel       170    7.0      14        SUV   Mumbai   \n",
       "4   First Owner    Petrol        80    5.0      22  Hatchback  Kolkata   \n",
       "\n",
       "   resale_price_Lakh  \n",
       "0               5.66  \n",
       "1               6.64  \n",
       "2               5.65  \n",
       "3              23.00  \n",
       "4               6.87  "
      ]
     },
     "execution_count": 417,
     "metadata": {},
     "output_type": "execute_result"
    }
   ],
   "source": [
    "train_data.head()"
   ]
  },
  {
   "cell_type": "code",
   "execution_count": 418,
   "metadata": {},
   "outputs": [
    {
     "data": {
      "text/plain": [
       "array(['Third Party', 'Zero Dep', 'Third Party insurance',\n",
       "       'Comprehensive', 'Not Available', '1', '2', nan], dtype=object)"
      ]
     },
     "execution_count": 418,
     "metadata": {},
     "output_type": "execute_result"
    }
   ],
   "source": [
    "train_data['insurance'].unique()"
   ]
  },
  {
   "cell_type": "code",
   "execution_count": 419,
   "metadata": {},
   "outputs": [],
   "source": [
    "train_data['insurance'].fillna(\"None\", inplace=True)"
   ]
  },
  {
   "cell_type": "code",
   "execution_count": 420,
   "metadata": {},
   "outputs": [],
   "source": [
    "#Insurance one-hot enconding\n",
    "train_data = train_data.join(pd.get_dummies(train_data.insurance,dtype=int)).drop(['insurance'], axis=1)"
   ]
  },
  {
   "cell_type": "code",
   "execution_count": 421,
   "metadata": {},
   "outputs": [
    {
     "data": {
      "text/plain": [
       "array(['Manual', 'Automatic'], dtype=object)"
      ]
     },
     "execution_count": 421,
     "metadata": {},
     "output_type": "execute_result"
    }
   ],
   "source": [
    "train_data['transmission_type'].unique()"
   ]
  },
  {
   "cell_type": "code",
   "execution_count": 422,
   "metadata": {},
   "outputs": [],
   "source": [
    "#transmission_type one-hot encoding\n",
    "train_data = train_data.join(pd.get_dummies(train_data.transmission_type,dtype=int)).drop(['transmission_type'],axis=1)"
   ]
  },
  {
   "cell_type": "code",
   "execution_count": 423,
   "metadata": {},
   "outputs": [
    {
     "data": {
      "text/plain": [
       "array(['First Owner', 'Third Owner', 'Second Owner', 'Fifth Owner',\n",
       "       'Fourth Owner', nan], dtype=object)"
      ]
     },
     "execution_count": 423,
     "metadata": {},
     "output_type": "execute_result"
    }
   ],
   "source": [
    "train_data['owner_type'].unique()"
   ]
  },
  {
   "cell_type": "code",
   "execution_count": 424,
   "metadata": {},
   "outputs": [],
   "source": [
    "train_data['owner_type'].fillna(\"Unknown\", inplace=True)"
   ]
  },
  {
   "cell_type": "code",
   "execution_count": 425,
   "metadata": {},
   "outputs": [],
   "source": [
    "#owner_type One-hot-encoding\n",
    "train_data = train_data.join(pd.get_dummies(train_data.owner_type,dtype=int)).drop(['owner_type'],axis=1)"
   ]
  },
  {
   "cell_type": "code",
   "execution_count": 426,
   "metadata": {},
   "outputs": [
    {
     "data": {
      "text/plain": [
       "array(['Petrol', 'Diesel', 'CNG', 'Electric', 'LPG'], dtype=object)"
      ]
     },
     "execution_count": 426,
     "metadata": {},
     "output_type": "execute_result"
    }
   ],
   "source": [
    "train_data['fuel_type'].unique()"
   ]
  },
  {
   "cell_type": "code",
   "execution_count": 427,
   "metadata": {},
   "outputs": [],
   "source": [
    "#fuel_type One-hot encoding\n",
    "train_data = train_data.join(pd.get_dummies(train_data.fuel_type,dtype=int)).drop(['fuel_type'],axis=1)"
   ]
  },
  {
   "cell_type": "code",
   "execution_count": 428,
   "metadata": {},
   "outputs": [
    {
     "data": {
      "text/plain": [
       "array(['Hatchback', 'SUV', 'Sedan', 'BMW', 'MUV', 'Maruti', 'Minivans',\n",
       "       'Mercedes-Benz', 'Cars', 'Coupe', 'Jaguar', 'Wagon', 'Datsun',\n",
       "       'Pickup', 'Tata', 'Honda', 'Convertibles', 'Hyundai', 'Mahindra',\n",
       "       'Volvo', 'Toyota', 'Isuzu', 'Skoda', 'Chevrolet'], dtype=object)"
      ]
     },
     "execution_count": 428,
     "metadata": {},
     "output_type": "execute_result"
    }
   ],
   "source": [
    "train_data['body_type'].unique()"
   ]
  },
  {
   "cell_type": "code",
   "execution_count": 429,
   "metadata": {},
   "outputs": [],
   "source": [
    "#body_type One-hot encoding\n",
    "train_data = train_data.join(pd.get_dummies(train_data.body_type,dtype=int)).drop(['body_type'],axis=1)"
   ]
  },
  {
   "cell_type": "code",
   "execution_count": 430,
   "metadata": {},
   "outputs": [
    {
     "data": {
      "text/plain": [
       "array(['Pune', 'Jaipur', 'Mumbai', 'Kolkata', 'Delhi', 'Bangalore',\n",
       "       'Hyderabad', 'Chennai', 'Gurgaon', 'Chandigarh', 'Ahmedabad',\n",
       "       'Lucknow', 'Agra'], dtype=object)"
      ]
     },
     "execution_count": 430,
     "metadata": {},
     "output_type": "execute_result"
    }
   ],
   "source": [
    "train_data['city'].unique()"
   ]
  },
  {
   "cell_type": "code",
   "execution_count": 431,
   "metadata": {},
   "outputs": [],
   "source": [
    "#city One-hot encoding\n",
    "train_data = train_data.join(pd.get_dummies(train_data.city,dtype=int)).drop(['city'],axis=1)"
   ]
  },
  {
   "cell_type": "code",
   "execution_count": 432,
   "metadata": {},
   "outputs": [
    {
     "data": {
      "text/plain": [
       "array(['2019 Tata Tiago XZ Plus', '2018 Honda WR-V i-VTEC VX',\n",
       "       '2015 Honda City i VTEC SV', ..., '2020 Hyundai Venue S Diesel',\n",
       "       '2019 Renault Duster 110PS Diesel RxS AMT',\n",
       "       '2017 Honda Jazz 1.2 E i VTEC'], dtype=object)"
      ]
     },
     "execution_count": 432,
     "metadata": {},
     "output_type": "execute_result"
    }
   ],
   "source": [
    "train_data['full_name'].unique()"
   ]
  },
  {
   "cell_type": "code",
   "execution_count": 433,
   "metadata": {},
   "outputs": [
    {
     "data": {
      "text/plain": [
       "array(['2019', '2018', '2015', '2021', '2017', '2013', '2016', '2012',\n",
       "       '2022', '2011', '2020', '2014', '2010', '2009', '2007', '2023',\n",
       "       '2008', nan, '2004', '2005', '2002', '2006', '2003'], dtype=object)"
      ]
     },
     "execution_count": 433,
     "metadata": {},
     "output_type": "execute_result"
    }
   ],
   "source": [
    "train_data['registered_year'].unique()"
   ]
  },
  {
   "cell_type": "code",
   "execution_count": 434,
   "metadata": {},
   "outputs": [
    {
     "data": {
      "text/html": [
       "<div>\n",
       "<style scoped>\n",
       "    .dataframe tbody tr th:only-of-type {\n",
       "        vertical-align: middle;\n",
       "    }\n",
       "\n",
       "    .dataframe tbody tr th {\n",
       "        vertical-align: top;\n",
       "    }\n",
       "\n",
       "    .dataframe thead th {\n",
       "        text-align: right;\n",
       "    }\n",
       "</style>\n",
       "<table border=\"1\" class=\"dataframe\">\n",
       "  <thead>\n",
       "    <tr style=\"text-align: right;\">\n",
       "      <th></th>\n",
       "      <th>full_name</th>\n",
       "      <th>registered_year</th>\n",
       "      <th>engine_capacity</th>\n",
       "      <th>kms_driven</th>\n",
       "      <th>max_power</th>\n",
       "      <th>seats</th>\n",
       "      <th>mileage</th>\n",
       "      <th>resale_price_Lakh</th>\n",
       "      <th>1</th>\n",
       "      <th>2</th>\n",
       "      <th>...</th>\n",
       "      <th>Chennai</th>\n",
       "      <th>Delhi</th>\n",
       "      <th>Gurgaon</th>\n",
       "      <th>Hyderabad</th>\n",
       "      <th>Jaipur</th>\n",
       "      <th>Kolkata</th>\n",
       "      <th>Lucknow</th>\n",
       "      <th>Mumbai</th>\n",
       "      <th>Pune</th>\n",
       "      <th>ID</th>\n",
       "    </tr>\n",
       "  </thead>\n",
       "  <tbody>\n",
       "    <tr>\n",
       "      <th>0</th>\n",
       "      <td>2019 Tata Tiago XZ Plus</td>\n",
       "      <td>2019</td>\n",
       "      <td>1199</td>\n",
       "      <td>30910</td>\n",
       "      <td>80</td>\n",
       "      <td>5.0</td>\n",
       "      <td>24</td>\n",
       "      <td>5.66</td>\n",
       "      <td>0</td>\n",
       "      <td>0</td>\n",
       "      <td>...</td>\n",
       "      <td>0</td>\n",
       "      <td>0</td>\n",
       "      <td>0</td>\n",
       "      <td>0</td>\n",
       "      <td>0</td>\n",
       "      <td>0</td>\n",
       "      <td>0</td>\n",
       "      <td>0</td>\n",
       "      <td>1</td>\n",
       "      <td>0</td>\n",
       "    </tr>\n",
       "    <tr>\n",
       "      <th>1</th>\n",
       "      <td>2018 Honda WR-V i-VTEC VX</td>\n",
       "      <td>2018</td>\n",
       "      <td>1199</td>\n",
       "      <td>48089</td>\n",
       "      <td>90</td>\n",
       "      <td>5.0</td>\n",
       "      <td>18</td>\n",
       "      <td>6.64</td>\n",
       "      <td>0</td>\n",
       "      <td>0</td>\n",
       "      <td>...</td>\n",
       "      <td>0</td>\n",
       "      <td>0</td>\n",
       "      <td>0</td>\n",
       "      <td>0</td>\n",
       "      <td>1</td>\n",
       "      <td>0</td>\n",
       "      <td>0</td>\n",
       "      <td>0</td>\n",
       "      <td>0</td>\n",
       "      <td>1</td>\n",
       "    </tr>\n",
       "    <tr>\n",
       "      <th>2</th>\n",
       "      <td>2015 Honda City i VTEC SV</td>\n",
       "      <td>2015</td>\n",
       "      <td>1497</td>\n",
       "      <td>51000</td>\n",
       "      <td>120</td>\n",
       "      <td>5.0</td>\n",
       "      <td>18</td>\n",
       "      <td>5.65</td>\n",
       "      <td>0</td>\n",
       "      <td>0</td>\n",
       "      <td>...</td>\n",
       "      <td>0</td>\n",
       "      <td>0</td>\n",
       "      <td>0</td>\n",
       "      <td>0</td>\n",
       "      <td>0</td>\n",
       "      <td>0</td>\n",
       "      <td>0</td>\n",
       "      <td>1</td>\n",
       "      <td>0</td>\n",
       "      <td>2</td>\n",
       "    </tr>\n",
       "    <tr>\n",
       "      <th>3</th>\n",
       "      <td>2021 Tata New Safari XZA Plus Adventure Editio...</td>\n",
       "      <td>2021</td>\n",
       "      <td>1956</td>\n",
       "      <td>30000</td>\n",
       "      <td>170</td>\n",
       "      <td>7.0</td>\n",
       "      <td>14</td>\n",
       "      <td>23.00</td>\n",
       "      <td>0</td>\n",
       "      <td>0</td>\n",
       "      <td>...</td>\n",
       "      <td>0</td>\n",
       "      <td>0</td>\n",
       "      <td>0</td>\n",
       "      <td>0</td>\n",
       "      <td>0</td>\n",
       "      <td>0</td>\n",
       "      <td>0</td>\n",
       "      <td>1</td>\n",
       "      <td>0</td>\n",
       "      <td>3</td>\n",
       "    </tr>\n",
       "    <tr>\n",
       "      <th>4</th>\n",
       "      <td>2019 Maruti Baleno 1.2 CVT Zeta</td>\n",
       "      <td>2019</td>\n",
       "      <td>1197</td>\n",
       "      <td>61113</td>\n",
       "      <td>80</td>\n",
       "      <td>5.0</td>\n",
       "      <td>22</td>\n",
       "      <td>6.87</td>\n",
       "      <td>0</td>\n",
       "      <td>0</td>\n",
       "      <td>...</td>\n",
       "      <td>0</td>\n",
       "      <td>0</td>\n",
       "      <td>0</td>\n",
       "      <td>0</td>\n",
       "      <td>0</td>\n",
       "      <td>1</td>\n",
       "      <td>0</td>\n",
       "      <td>0</td>\n",
       "      <td>0</td>\n",
       "      <td>4</td>\n",
       "    </tr>\n",
       "  </tbody>\n",
       "</table>\n",
       "<p>5 rows × 67 columns</p>\n",
       "</div>"
      ],
      "text/plain": [
       "                                           full_name registered_year  \\\n",
       "0                            2019 Tata Tiago XZ Plus            2019   \n",
       "1                          2018 Honda WR-V i-VTEC VX            2018   \n",
       "2                          2015 Honda City i VTEC SV            2015   \n",
       "3  2021 Tata New Safari XZA Plus Adventure Editio...            2021   \n",
       "4                    2019 Maruti Baleno 1.2 CVT Zeta            2019   \n",
       "\n",
       "  engine_capacity kms_driven max_power  seats mileage  resale_price_Lakh  1  \\\n",
       "0            1199      30910        80    5.0      24               5.66  0   \n",
       "1            1199      48089        90    5.0      18               6.64  0   \n",
       "2            1497      51000       120    5.0      18               5.65  0   \n",
       "3            1956      30000       170    7.0      14              23.00  0   \n",
       "4            1197      61113        80    5.0      22               6.87  0   \n",
       "\n",
       "   2  ...  Chennai  Delhi  Gurgaon  Hyderabad  Jaipur  Kolkata  Lucknow  \\\n",
       "0  0  ...        0      0        0          0       0        0        0   \n",
       "1  0  ...        0      0        0          0       1        0        0   \n",
       "2  0  ...        0      0        0          0       0        0        0   \n",
       "3  0  ...        0      0        0          0       0        0        0   \n",
       "4  0  ...        0      0        0          0       0        1        0   \n",
       "\n",
       "   Mumbai  Pune  ID  \n",
       "0       0     1   0  \n",
       "1       0     0   1  \n",
       "2       1     0   2  \n",
       "3       1     0   3  \n",
       "4       0     0   4  \n",
       "\n",
       "[5 rows x 67 columns]"
      ]
     },
     "execution_count": 434,
     "metadata": {},
     "output_type": "execute_result"
    }
   ],
   "source": [
    "#Create a new column 'ID' with sequential IDs starting from 1\n",
    "train_data['ID'] = range(0, len(train_data))\n",
    "\n",
    "#Print the updated DataFrame\n",
    "train_data.head()"
   ]
  },
  {
   "cell_type": "code",
   "execution_count": 435,
   "metadata": {},
   "outputs": [
    {
     "data": {
      "text/html": [
       "<div>\n",
       "<style scoped>\n",
       "    .dataframe tbody tr th:only-of-type {\n",
       "        vertical-align: middle;\n",
       "    }\n",
       "\n",
       "    .dataframe tbody tr th {\n",
       "        vertical-align: top;\n",
       "    }\n",
       "\n",
       "    .dataframe thead th {\n",
       "        text-align: right;\n",
       "    }\n",
       "</style>\n",
       "<table border=\"1\" class=\"dataframe\">\n",
       "  <thead>\n",
       "    <tr style=\"text-align: right;\">\n",
       "      <th></th>\n",
       "      <th>registered_year</th>\n",
       "      <th>engine_capacity</th>\n",
       "      <th>kms_driven</th>\n",
       "      <th>max_power</th>\n",
       "      <th>seats</th>\n",
       "      <th>mileage</th>\n",
       "      <th>resale_price_Lakh</th>\n",
       "      <th>1</th>\n",
       "      <th>2</th>\n",
       "      <th>Comprehensive</th>\n",
       "      <th>...</th>\n",
       "      <th>Chennai</th>\n",
       "      <th>Delhi</th>\n",
       "      <th>Gurgaon</th>\n",
       "      <th>Hyderabad</th>\n",
       "      <th>Jaipur</th>\n",
       "      <th>Kolkata</th>\n",
       "      <th>Lucknow</th>\n",
       "      <th>Mumbai</th>\n",
       "      <th>Pune</th>\n",
       "      <th>ID</th>\n",
       "    </tr>\n",
       "  </thead>\n",
       "  <tbody>\n",
       "    <tr>\n",
       "      <th>0</th>\n",
       "      <td>2019</td>\n",
       "      <td>1199</td>\n",
       "      <td>30910</td>\n",
       "      <td>80</td>\n",
       "      <td>5.0</td>\n",
       "      <td>24</td>\n",
       "      <td>5.66</td>\n",
       "      <td>0</td>\n",
       "      <td>0</td>\n",
       "      <td>0</td>\n",
       "      <td>...</td>\n",
       "      <td>0</td>\n",
       "      <td>0</td>\n",
       "      <td>0</td>\n",
       "      <td>0</td>\n",
       "      <td>0</td>\n",
       "      <td>0</td>\n",
       "      <td>0</td>\n",
       "      <td>0</td>\n",
       "      <td>1</td>\n",
       "      <td>0</td>\n",
       "    </tr>\n",
       "    <tr>\n",
       "      <th>1</th>\n",
       "      <td>2018</td>\n",
       "      <td>1199</td>\n",
       "      <td>48089</td>\n",
       "      <td>90</td>\n",
       "      <td>5.0</td>\n",
       "      <td>18</td>\n",
       "      <td>6.64</td>\n",
       "      <td>0</td>\n",
       "      <td>0</td>\n",
       "      <td>0</td>\n",
       "      <td>...</td>\n",
       "      <td>0</td>\n",
       "      <td>0</td>\n",
       "      <td>0</td>\n",
       "      <td>0</td>\n",
       "      <td>1</td>\n",
       "      <td>0</td>\n",
       "      <td>0</td>\n",
       "      <td>0</td>\n",
       "      <td>0</td>\n",
       "      <td>1</td>\n",
       "    </tr>\n",
       "    <tr>\n",
       "      <th>2</th>\n",
       "      <td>2015</td>\n",
       "      <td>1497</td>\n",
       "      <td>51000</td>\n",
       "      <td>120</td>\n",
       "      <td>5.0</td>\n",
       "      <td>18</td>\n",
       "      <td>5.65</td>\n",
       "      <td>0</td>\n",
       "      <td>0</td>\n",
       "      <td>0</td>\n",
       "      <td>...</td>\n",
       "      <td>0</td>\n",
       "      <td>0</td>\n",
       "      <td>0</td>\n",
       "      <td>0</td>\n",
       "      <td>0</td>\n",
       "      <td>0</td>\n",
       "      <td>0</td>\n",
       "      <td>1</td>\n",
       "      <td>0</td>\n",
       "      <td>2</td>\n",
       "    </tr>\n",
       "    <tr>\n",
       "      <th>3</th>\n",
       "      <td>2021</td>\n",
       "      <td>1956</td>\n",
       "      <td>30000</td>\n",
       "      <td>170</td>\n",
       "      <td>7.0</td>\n",
       "      <td>14</td>\n",
       "      <td>23.00</td>\n",
       "      <td>0</td>\n",
       "      <td>0</td>\n",
       "      <td>0</td>\n",
       "      <td>...</td>\n",
       "      <td>0</td>\n",
       "      <td>0</td>\n",
       "      <td>0</td>\n",
       "      <td>0</td>\n",
       "      <td>0</td>\n",
       "      <td>0</td>\n",
       "      <td>0</td>\n",
       "      <td>1</td>\n",
       "      <td>0</td>\n",
       "      <td>3</td>\n",
       "    </tr>\n",
       "    <tr>\n",
       "      <th>4</th>\n",
       "      <td>2019</td>\n",
       "      <td>1197</td>\n",
       "      <td>61113</td>\n",
       "      <td>80</td>\n",
       "      <td>5.0</td>\n",
       "      <td>22</td>\n",
       "      <td>6.87</td>\n",
       "      <td>0</td>\n",
       "      <td>0</td>\n",
       "      <td>0</td>\n",
       "      <td>...</td>\n",
       "      <td>0</td>\n",
       "      <td>0</td>\n",
       "      <td>0</td>\n",
       "      <td>0</td>\n",
       "      <td>0</td>\n",
       "      <td>1</td>\n",
       "      <td>0</td>\n",
       "      <td>0</td>\n",
       "      <td>0</td>\n",
       "      <td>4</td>\n",
       "    </tr>\n",
       "  </tbody>\n",
       "</table>\n",
       "<p>5 rows × 66 columns</p>\n",
       "</div>"
      ],
      "text/plain": [
       "  registered_year engine_capacity kms_driven max_power  seats mileage  \\\n",
       "0            2019            1199      30910        80    5.0      24   \n",
       "1            2018            1199      48089        90    5.0      18   \n",
       "2            2015            1497      51000       120    5.0      18   \n",
       "3            2021            1956      30000       170    7.0      14   \n",
       "4            2019            1197      61113        80    5.0      22   \n",
       "\n",
       "   resale_price_Lakh  1  2  Comprehensive  ...  Chennai  Delhi  Gurgaon  \\\n",
       "0               5.66  0  0              0  ...        0      0        0   \n",
       "1               6.64  0  0              0  ...        0      0        0   \n",
       "2               5.65  0  0              0  ...        0      0        0   \n",
       "3              23.00  0  0              0  ...        0      0        0   \n",
       "4               6.87  0  0              0  ...        0      0        0   \n",
       "\n",
       "   Hyderabad  Jaipur  Kolkata  Lucknow  Mumbai  Pune  ID  \n",
       "0          0       0        0        0       0     1   0  \n",
       "1          0       1        0        0       0     0   1  \n",
       "2          0       0        0        0       1     0   2  \n",
       "3          0       0        0        0       1     0   3  \n",
       "4          0       0        1        0       0     0   4  \n",
       "\n",
       "[5 rows x 66 columns]"
      ]
     },
     "execution_count": 435,
     "metadata": {},
     "output_type": "execute_result"
    }
   ],
   "source": [
    "#Alternatively, you can use the inplace parameter to modify the DataFrame in place\n",
    "train_data.drop('full_name', axis=1, inplace=True)\n",
    "\n",
    "# Print the updated DataFrame\n",
    "train_data.head()\n"
   ]
  },
  {
   "cell_type": "code",
   "execution_count": 436,
   "metadata": {},
   "outputs": [
    {
     "data": {
      "text/plain": [
       "(13815, 66)"
      ]
     },
     "execution_count": 436,
     "metadata": {},
     "output_type": "execute_result"
    }
   ],
   "source": [
    "train_data.shape"
   ]
  },
  {
   "cell_type": "code",
   "execution_count": 437,
   "metadata": {},
   "outputs": [
    {
     "data": {
      "text/plain": [
       "registered_year     53\n",
       "engine_capacity      9\n",
       "kms_driven           3\n",
       "max_power          261\n",
       "seats                7\n",
       "                  ... \n",
       "Kolkata              0\n",
       "Lucknow              0\n",
       "Mumbai               0\n",
       "Pune                 0\n",
       "ID                   0\n",
       "Length: 66, dtype: int64"
      ]
     },
     "execution_count": 437,
     "metadata": {},
     "output_type": "execute_result"
    }
   ],
   "source": [
    "train_data.isna().sum()"
   ]
  },
  {
   "cell_type": "code",
   "execution_count": 438,
   "metadata": {},
   "outputs": [],
   "source": [
    "train_data.dropna(inplace=True)"
   ]
  },
  {
   "cell_type": "code",
   "execution_count": 439,
   "metadata": {},
   "outputs": [
    {
     "data": {
      "text/plain": [
       "registered_year    0\n",
       "engine_capacity    0\n",
       "kms_driven         0\n",
       "max_power          0\n",
       "seats              0\n",
       "                  ..\n",
       "Kolkata            0\n",
       "Lucknow            0\n",
       "Mumbai             0\n",
       "Pune               0\n",
       "ID                 0\n",
       "Length: 66, dtype: int64"
      ]
     },
     "execution_count": 439,
     "metadata": {},
     "output_type": "execute_result"
    }
   ],
   "source": [
    "train_data.isna().sum()"
   ]
  },
  {
   "cell_type": "code",
   "execution_count": 440,
   "metadata": {},
   "outputs": [
    {
     "data": {
      "text/plain": [
       "(13485, 66)"
      ]
     },
     "execution_count": 440,
     "metadata": {},
     "output_type": "execute_result"
    }
   ],
   "source": [
    "train_data.shape"
   ]
  },
  {
   "cell_type": "code",
   "execution_count": 441,
   "metadata": {},
   "outputs": [],
   "source": [
    "data_before_hot_encoding = train_data.to_csv(\"databeforeencoding.csv\",index=False)"
   ]
  },
  {
   "cell_type": "code",
   "execution_count": 442,
   "metadata": {},
   "outputs": [],
   "source": [
    "train_data.to_csv('./TrainDataScenario1.csv',index=False)"
   ]
  }
 ],
 "metadata": {
  "kernelspec": {
   "display_name": "Python 3",
   "language": "python",
   "name": "python3"
  },
  "language_info": {
   "codemirror_mode": {
    "name": "ipython",
    "version": 3
   },
   "file_extension": ".py",
   "mimetype": "text/x-python",
   "name": "python",
   "nbconvert_exporter": "python",
   "pygments_lexer": "ipython3",
   "version": "3.12.1"
  }
 },
 "nbformat": 4,
 "nbformat_minor": 2
}
